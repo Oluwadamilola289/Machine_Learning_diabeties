{
  "cells": [
    {
      "cell_type": "code",
      "source": [
        "import numpy as np \n",
        "import pandas as pd\n",
        "import matplotlib as plt\n",
        "from matplotlib.figure import Figure\n",
        "from matplotlib import *\n",
        "import sys\n",
        "from sklearn.model_selection import GridSearchCV\n",
        "from sklearn.linear_model import LogisticRegression\n",
        "import pylab as pl\n",
        "import seaborn as sns\n",
        "from sklearn.model_selection import train_test_split\n",
        "from sklearn.linear_model import LinearRegression\n",
        "from numpy import set_printoptions\n",
        "from imblearn.over_sampling import RandomOverSampler\n",
        "from imblearn.under_sampling import RandomUnderSampler\n",
        "from imblearn.over_sampling import SMOTE\n",
        "import pandas as pd\n",
        "import numpy as np\n",
        "from sklearn.preprocessing import MinMaxScaler\n",
        "from sklearn.preprocessing import StandardScaler\n",
        "from sklearn.preprocessing import Normalizer\n",
        "from sklearn.metrics import precision_score\n",
        "import warnings\n",
        "warnings.simplefilter('ignore')"
      ],
      "metadata": {
        "id": "Qir0NUaZvuB_"
      },
      "execution_count": 14,
      "outputs": []
    },
    {
      "cell_type": "code",
      "source": [
        "pip install -U imbalanced-learn"
      ],
      "metadata": {
        "id": "lgkP29qjwAWs",
        "outputId": "ee56ddd8-d7a9-4d76-8ae0-ec37c8224d62",
        "colab": {
          "base_uri": "https://localhost:8080/"
        }
      },
      "execution_count": 15,
      "outputs": [
        {
          "output_type": "stream",
          "name": "stdout",
          "text": [
            "Looking in indexes: https://pypi.org/simple, https://us-python.pkg.dev/colab-wheels/public/simple/\n",
            "Requirement already satisfied: imbalanced-learn in /usr/local/lib/python3.8/dist-packages (0.10.1)\n",
            "Requirement already satisfied: joblib>=1.1.1 in /usr/local/lib/python3.8/dist-packages (from imbalanced-learn) (1.2.0)\n",
            "Requirement already satisfied: scipy>=1.3.2 in /usr/local/lib/python3.8/dist-packages (from imbalanced-learn) (1.7.3)\n",
            "Requirement already satisfied: numpy>=1.17.3 in /usr/local/lib/python3.8/dist-packages (from imbalanced-learn) (1.21.6)\n",
            "Requirement already satisfied: scikit-learn>=1.0.2 in /usr/local/lib/python3.8/dist-packages (from imbalanced-learn) (1.0.2)\n",
            "Requirement already satisfied: threadpoolctl>=2.0.0 in /usr/local/lib/python3.8/dist-packages (from imbalanced-learn) (3.1.0)\n"
          ]
        }
      ]
    },
    {
      "cell_type": "code",
      "source": [
        "#LOAD THE  DATASET"
      ],
      "metadata": {
        "id": "wCqXDE1Cz53J"
      },
      "execution_count": 16,
      "outputs": []
    },
    {
      "cell_type": "code",
      "source": [
        "df = pd.read_csv(\"/content/diabeties.csv\")"
      ],
      "metadata": {
        "id": "mLGWzzRF1GKi"
      },
      "execution_count": 17,
      "outputs": []
    },
    {
      "cell_type": "code",
      "source": [
        "#Head of the dataset. This basically gives information on the first five rows by default unless it is specified"
      ],
      "metadata": {
        "id": "Fec1Q_Xg04WV"
      },
      "execution_count": 18,
      "outputs": []
    },
    {
      "cell_type": "code",
      "source": [
        "#display first five rows of the data\n",
        "df.head(10)"
      ],
      "metadata": {
        "id": "YssZhM_-1XVW",
        "outputId": "5969c88c-e75e-446b-9bc6-fd8ac2142f2f",
        "colab": {
          "base_uri": "https://localhost:8080/",
          "height": 456
        }
      },
      "execution_count": 19,
      "outputs": [
        {
          "output_type": "execute_result",
          "data": {
            "text/plain": [
              "   Diabetes_012  HighBP  HighChol  CholCheck  BMI  Smoker  Stroke  \\\n",
              "0             0       1         1          1   40       1       0   \n",
              "1             0       0         0          0   25       1       0   \n",
              "2             0       1         1          1   28       0       0   \n",
              "3             0       1         0          1   27       0       0   \n",
              "4             0       1         1          1   24       0       0   \n",
              "5             0       1         1          1   25       1       0   \n",
              "6             0       1         0          1   30       1       0   \n",
              "7             0       1         1          1   25       1       0   \n",
              "8             2       1         1          1   30       1       0   \n",
              "9             0       0         0          1   24       0       0   \n",
              "\n",
              "   HeartDiseaseorAttack  PhysActivity  Fruits  ...  AnyHealthcare  \\\n",
              "0                     0             0       0  ...              1   \n",
              "1                     0             1       0  ...              0   \n",
              "2                     0             0       1  ...              1   \n",
              "3                     0             1       1  ...              1   \n",
              "4                     0             1       1  ...              1   \n",
              "5                     0             1       1  ...              1   \n",
              "6                     0             0       0  ...              1   \n",
              "7                     0             1       0  ...              1   \n",
              "8                     1             0       1  ...              1   \n",
              "9                     0             0       0  ...              1   \n",
              "\n",
              "   NoDocbcCost  GenHlth  MentHlth  PhysHlth  DiffWalk  Sex  Age  Education  \\\n",
              "0            0        5        18        15         1    0    9          4   \n",
              "1            1        3         0         0         0    0    7          6   \n",
              "2            1        5        30        30         1    0    9          4   \n",
              "3            0        2         0         0         0    0   11          3   \n",
              "4            0        2         3         0         0    0   11          5   \n",
              "5            0        2         0         2         0    1   10          6   \n",
              "6            0        3         0        14         0    0    9          6   \n",
              "7            0        3         0         0         1    0   11          4   \n",
              "8            0        5        30        30         1    0    9          5   \n",
              "9            0        2         0         0         0    1    8          4   \n",
              "\n",
              "   Income  \n",
              "0       3  \n",
              "1       1  \n",
              "2       8  \n",
              "3       6  \n",
              "4       4  \n",
              "5       8  \n",
              "6       7  \n",
              "7       4  \n",
              "8       1  \n",
              "9       3  \n",
              "\n",
              "[10 rows x 22 columns]"
            ],
            "text/html": [
              "\n",
              "  <div id=\"df-e0a6ab02-0e73-4b36-9f9e-34fdfac48dca\">\n",
              "    <div class=\"colab-df-container\">\n",
              "      <div>\n",
              "<style scoped>\n",
              "    .dataframe tbody tr th:only-of-type {\n",
              "        vertical-align: middle;\n",
              "    }\n",
              "\n",
              "    .dataframe tbody tr th {\n",
              "        vertical-align: top;\n",
              "    }\n",
              "\n",
              "    .dataframe thead th {\n",
              "        text-align: right;\n",
              "    }\n",
              "</style>\n",
              "<table border=\"1\" class=\"dataframe\">\n",
              "  <thead>\n",
              "    <tr style=\"text-align: right;\">\n",
              "      <th></th>\n",
              "      <th>Diabetes_012</th>\n",
              "      <th>HighBP</th>\n",
              "      <th>HighChol</th>\n",
              "      <th>CholCheck</th>\n",
              "      <th>BMI</th>\n",
              "      <th>Smoker</th>\n",
              "      <th>Stroke</th>\n",
              "      <th>HeartDiseaseorAttack</th>\n",
              "      <th>PhysActivity</th>\n",
              "      <th>Fruits</th>\n",
              "      <th>...</th>\n",
              "      <th>AnyHealthcare</th>\n",
              "      <th>NoDocbcCost</th>\n",
              "      <th>GenHlth</th>\n",
              "      <th>MentHlth</th>\n",
              "      <th>PhysHlth</th>\n",
              "      <th>DiffWalk</th>\n",
              "      <th>Sex</th>\n",
              "      <th>Age</th>\n",
              "      <th>Education</th>\n",
              "      <th>Income</th>\n",
              "    </tr>\n",
              "  </thead>\n",
              "  <tbody>\n",
              "    <tr>\n",
              "      <th>0</th>\n",
              "      <td>0</td>\n",
              "      <td>1</td>\n",
              "      <td>1</td>\n",
              "      <td>1</td>\n",
              "      <td>40</td>\n",
              "      <td>1</td>\n",
              "      <td>0</td>\n",
              "      <td>0</td>\n",
              "      <td>0</td>\n",
              "      <td>0</td>\n",
              "      <td>...</td>\n",
              "      <td>1</td>\n",
              "      <td>0</td>\n",
              "      <td>5</td>\n",
              "      <td>18</td>\n",
              "      <td>15</td>\n",
              "      <td>1</td>\n",
              "      <td>0</td>\n",
              "      <td>9</td>\n",
              "      <td>4</td>\n",
              "      <td>3</td>\n",
              "    </tr>\n",
              "    <tr>\n",
              "      <th>1</th>\n",
              "      <td>0</td>\n",
              "      <td>0</td>\n",
              "      <td>0</td>\n",
              "      <td>0</td>\n",
              "      <td>25</td>\n",
              "      <td>1</td>\n",
              "      <td>0</td>\n",
              "      <td>0</td>\n",
              "      <td>1</td>\n",
              "      <td>0</td>\n",
              "      <td>...</td>\n",
              "      <td>0</td>\n",
              "      <td>1</td>\n",
              "      <td>3</td>\n",
              "      <td>0</td>\n",
              "      <td>0</td>\n",
              "      <td>0</td>\n",
              "      <td>0</td>\n",
              "      <td>7</td>\n",
              "      <td>6</td>\n",
              "      <td>1</td>\n",
              "    </tr>\n",
              "    <tr>\n",
              "      <th>2</th>\n",
              "      <td>0</td>\n",
              "      <td>1</td>\n",
              "      <td>1</td>\n",
              "      <td>1</td>\n",
              "      <td>28</td>\n",
              "      <td>0</td>\n",
              "      <td>0</td>\n",
              "      <td>0</td>\n",
              "      <td>0</td>\n",
              "      <td>1</td>\n",
              "      <td>...</td>\n",
              "      <td>1</td>\n",
              "      <td>1</td>\n",
              "      <td>5</td>\n",
              "      <td>30</td>\n",
              "      <td>30</td>\n",
              "      <td>1</td>\n",
              "      <td>0</td>\n",
              "      <td>9</td>\n",
              "      <td>4</td>\n",
              "      <td>8</td>\n",
              "    </tr>\n",
              "    <tr>\n",
              "      <th>3</th>\n",
              "      <td>0</td>\n",
              "      <td>1</td>\n",
              "      <td>0</td>\n",
              "      <td>1</td>\n",
              "      <td>27</td>\n",
              "      <td>0</td>\n",
              "      <td>0</td>\n",
              "      <td>0</td>\n",
              "      <td>1</td>\n",
              "      <td>1</td>\n",
              "      <td>...</td>\n",
              "      <td>1</td>\n",
              "      <td>0</td>\n",
              "      <td>2</td>\n",
              "      <td>0</td>\n",
              "      <td>0</td>\n",
              "      <td>0</td>\n",
              "      <td>0</td>\n",
              "      <td>11</td>\n",
              "      <td>3</td>\n",
              "      <td>6</td>\n",
              "    </tr>\n",
              "    <tr>\n",
              "      <th>4</th>\n",
              "      <td>0</td>\n",
              "      <td>1</td>\n",
              "      <td>1</td>\n",
              "      <td>1</td>\n",
              "      <td>24</td>\n",
              "      <td>0</td>\n",
              "      <td>0</td>\n",
              "      <td>0</td>\n",
              "      <td>1</td>\n",
              "      <td>1</td>\n",
              "      <td>...</td>\n",
              "      <td>1</td>\n",
              "      <td>0</td>\n",
              "      <td>2</td>\n",
              "      <td>3</td>\n",
              "      <td>0</td>\n",
              "      <td>0</td>\n",
              "      <td>0</td>\n",
              "      <td>11</td>\n",
              "      <td>5</td>\n",
              "      <td>4</td>\n",
              "    </tr>\n",
              "    <tr>\n",
              "      <th>5</th>\n",
              "      <td>0</td>\n",
              "      <td>1</td>\n",
              "      <td>1</td>\n",
              "      <td>1</td>\n",
              "      <td>25</td>\n",
              "      <td>1</td>\n",
              "      <td>0</td>\n",
              "      <td>0</td>\n",
              "      <td>1</td>\n",
              "      <td>1</td>\n",
              "      <td>...</td>\n",
              "      <td>1</td>\n",
              "      <td>0</td>\n",
              "      <td>2</td>\n",
              "      <td>0</td>\n",
              "      <td>2</td>\n",
              "      <td>0</td>\n",
              "      <td>1</td>\n",
              "      <td>10</td>\n",
              "      <td>6</td>\n",
              "      <td>8</td>\n",
              "    </tr>\n",
              "    <tr>\n",
              "      <th>6</th>\n",
              "      <td>0</td>\n",
              "      <td>1</td>\n",
              "      <td>0</td>\n",
              "      <td>1</td>\n",
              "      <td>30</td>\n",
              "      <td>1</td>\n",
              "      <td>0</td>\n",
              "      <td>0</td>\n",
              "      <td>0</td>\n",
              "      <td>0</td>\n",
              "      <td>...</td>\n",
              "      <td>1</td>\n",
              "      <td>0</td>\n",
              "      <td>3</td>\n",
              "      <td>0</td>\n",
              "      <td>14</td>\n",
              "      <td>0</td>\n",
              "      <td>0</td>\n",
              "      <td>9</td>\n",
              "      <td>6</td>\n",
              "      <td>7</td>\n",
              "    </tr>\n",
              "    <tr>\n",
              "      <th>7</th>\n",
              "      <td>0</td>\n",
              "      <td>1</td>\n",
              "      <td>1</td>\n",
              "      <td>1</td>\n",
              "      <td>25</td>\n",
              "      <td>1</td>\n",
              "      <td>0</td>\n",
              "      <td>0</td>\n",
              "      <td>1</td>\n",
              "      <td>0</td>\n",
              "      <td>...</td>\n",
              "      <td>1</td>\n",
              "      <td>0</td>\n",
              "      <td>3</td>\n",
              "      <td>0</td>\n",
              "      <td>0</td>\n",
              "      <td>1</td>\n",
              "      <td>0</td>\n",
              "      <td>11</td>\n",
              "      <td>4</td>\n",
              "      <td>4</td>\n",
              "    </tr>\n",
              "    <tr>\n",
              "      <th>8</th>\n",
              "      <td>2</td>\n",
              "      <td>1</td>\n",
              "      <td>1</td>\n",
              "      <td>1</td>\n",
              "      <td>30</td>\n",
              "      <td>1</td>\n",
              "      <td>0</td>\n",
              "      <td>1</td>\n",
              "      <td>0</td>\n",
              "      <td>1</td>\n",
              "      <td>...</td>\n",
              "      <td>1</td>\n",
              "      <td>0</td>\n",
              "      <td>5</td>\n",
              "      <td>30</td>\n",
              "      <td>30</td>\n",
              "      <td>1</td>\n",
              "      <td>0</td>\n",
              "      <td>9</td>\n",
              "      <td>5</td>\n",
              "      <td>1</td>\n",
              "    </tr>\n",
              "    <tr>\n",
              "      <th>9</th>\n",
              "      <td>0</td>\n",
              "      <td>0</td>\n",
              "      <td>0</td>\n",
              "      <td>1</td>\n",
              "      <td>24</td>\n",
              "      <td>0</td>\n",
              "      <td>0</td>\n",
              "      <td>0</td>\n",
              "      <td>0</td>\n",
              "      <td>0</td>\n",
              "      <td>...</td>\n",
              "      <td>1</td>\n",
              "      <td>0</td>\n",
              "      <td>2</td>\n",
              "      <td>0</td>\n",
              "      <td>0</td>\n",
              "      <td>0</td>\n",
              "      <td>1</td>\n",
              "      <td>8</td>\n",
              "      <td>4</td>\n",
              "      <td>3</td>\n",
              "    </tr>\n",
              "  </tbody>\n",
              "</table>\n",
              "<p>10 rows × 22 columns</p>\n",
              "</div>\n",
              "      <button class=\"colab-df-convert\" onclick=\"convertToInteractive('df-e0a6ab02-0e73-4b36-9f9e-34fdfac48dca')\"\n",
              "              title=\"Convert this dataframe to an interactive table.\"\n",
              "              style=\"display:none;\">\n",
              "        \n",
              "  <svg xmlns=\"http://www.w3.org/2000/svg\" height=\"24px\"viewBox=\"0 0 24 24\"\n",
              "       width=\"24px\">\n",
              "    <path d=\"M0 0h24v24H0V0z\" fill=\"none\"/>\n",
              "    <path d=\"M18.56 5.44l.94 2.06.94-2.06 2.06-.94-2.06-.94-.94-2.06-.94 2.06-2.06.94zm-11 1L8.5 8.5l.94-2.06 2.06-.94-2.06-.94L8.5 2.5l-.94 2.06-2.06.94zm10 10l.94 2.06.94-2.06 2.06-.94-2.06-.94-.94-2.06-.94 2.06-2.06.94z\"/><path d=\"M17.41 7.96l-1.37-1.37c-.4-.4-.92-.59-1.43-.59-.52 0-1.04.2-1.43.59L10.3 9.45l-7.72 7.72c-.78.78-.78 2.05 0 2.83L4 21.41c.39.39.9.59 1.41.59.51 0 1.02-.2 1.41-.59l7.78-7.78 2.81-2.81c.8-.78.8-2.07 0-2.86zM5.41 20L4 18.59l7.72-7.72 1.47 1.35L5.41 20z\"/>\n",
              "  </svg>\n",
              "      </button>\n",
              "      \n",
              "  <style>\n",
              "    .colab-df-container {\n",
              "      display:flex;\n",
              "      flex-wrap:wrap;\n",
              "      gap: 12px;\n",
              "    }\n",
              "\n",
              "    .colab-df-convert {\n",
              "      background-color: #E8F0FE;\n",
              "      border: none;\n",
              "      border-radius: 50%;\n",
              "      cursor: pointer;\n",
              "      display: none;\n",
              "      fill: #1967D2;\n",
              "      height: 32px;\n",
              "      padding: 0 0 0 0;\n",
              "      width: 32px;\n",
              "    }\n",
              "\n",
              "    .colab-df-convert:hover {\n",
              "      background-color: #E2EBFA;\n",
              "      box-shadow: 0px 1px 2px rgba(60, 64, 67, 0.3), 0px 1px 3px 1px rgba(60, 64, 67, 0.15);\n",
              "      fill: #174EA6;\n",
              "    }\n",
              "\n",
              "    [theme=dark] .colab-df-convert {\n",
              "      background-color: #3B4455;\n",
              "      fill: #D2E3FC;\n",
              "    }\n",
              "\n",
              "    [theme=dark] .colab-df-convert:hover {\n",
              "      background-color: #434B5C;\n",
              "      box-shadow: 0px 1px 3px 1px rgba(0, 0, 0, 0.15);\n",
              "      filter: drop-shadow(0px 1px 2px rgba(0, 0, 0, 0.3));\n",
              "      fill: #FFFFFF;\n",
              "    }\n",
              "  </style>\n",
              "\n",
              "      <script>\n",
              "        const buttonEl =\n",
              "          document.querySelector('#df-e0a6ab02-0e73-4b36-9f9e-34fdfac48dca button.colab-df-convert');\n",
              "        buttonEl.style.display =\n",
              "          google.colab.kernel.accessAllowed ? 'block' : 'none';\n",
              "\n",
              "        async function convertToInteractive(key) {\n",
              "          const element = document.querySelector('#df-e0a6ab02-0e73-4b36-9f9e-34fdfac48dca');\n",
              "          const dataTable =\n",
              "            await google.colab.kernel.invokeFunction('convertToInteractive',\n",
              "                                                     [key], {});\n",
              "          if (!dataTable) return;\n",
              "\n",
              "          const docLinkHtml = 'Like what you see? Visit the ' +\n",
              "            '<a target=\"_blank\" href=https://colab.research.google.com/notebooks/data_table.ipynb>data table notebook</a>'\n",
              "            + ' to learn more about interactive tables.';\n",
              "          element.innerHTML = '';\n",
              "          dataTable['output_type'] = 'display_data';\n",
              "          await google.colab.output.renderOutput(dataTable, element);\n",
              "          const docLink = document.createElement('div');\n",
              "          docLink.innerHTML = docLinkHtml;\n",
              "          element.appendChild(docLink);\n",
              "        }\n",
              "      </script>\n",
              "    </div>\n",
              "  </div>\n",
              "  "
            ]
          },
          "metadata": {},
          "execution_count": 19
        }
      ]
    },
    {
      "cell_type": "code",
      "source": [
        "#displays last five rows of data\n",
        "df.tail(10)"
      ],
      "metadata": {
        "id": "JjoebWsS1fDf",
        "outputId": "bd9d225d-d46c-45e7-e87b-e3e7af5eb47a",
        "colab": {
          "base_uri": "https://localhost:8080/",
          "height": 456
        }
      },
      "execution_count": 20,
      "outputs": [
        {
          "output_type": "execute_result",
          "data": {
            "text/plain": [
              "        Diabetes_012  HighBP  HighChol  CholCheck  BMI  Smoker  Stroke  \\\n",
              "253670             2       1         1          1   25       0       0   \n",
              "253671             0       1         1          1   23       0       1   \n",
              "253672             0       1         0          1   30       1       0   \n",
              "253673             0       1         0          1   42       0       0   \n",
              "253674             0       0         0          1   27       0       0   \n",
              "253675             0       1         1          1   45       0       0   \n",
              "253676             2       1         1          1   18       0       0   \n",
              "253677             0       0         0          1   28       0       0   \n",
              "253678             0       1         0          1   23       0       0   \n",
              "253679             2       1         1          1   25       0       0   \n",
              "\n",
              "        HeartDiseaseorAttack  PhysActivity  Fruits  ...  AnyHealthcare  \\\n",
              "253670                     1             0       1  ...              1   \n",
              "253671                     1             0       0  ...              1   \n",
              "253672                     1             1       1  ...              1   \n",
              "253673                     0             1       1  ...              1   \n",
              "253674                     0             0       0  ...              1   \n",
              "253675                     0             0       1  ...              1   \n",
              "253676                     0             0       0  ...              1   \n",
              "253677                     0             1       1  ...              1   \n",
              "253678                     0             0       1  ...              1   \n",
              "253679                     1             1       1  ...              1   \n",
              "\n",
              "        NoDocbcCost  GenHlth  MentHlth  PhysHlth  DiffWalk  Sex  Age  \\\n",
              "253670            0        5        15         0         1    0   13   \n",
              "253671            1        4         0         5         0    1    8   \n",
              "253672            0        3         0         0         0    1   12   \n",
              "253673            0        3        14         4         0    1    3   \n",
              "253674            0        1         0         0         0    0    3   \n",
              "253675            0        3         0         5         0    1    5   \n",
              "253676            0        4         0         0         1    0   11   \n",
              "253677            0        1         0         0         0    0    2   \n",
              "253678            0        3         0         0         0    1    7   \n",
              "253679            0        2         0         0         0    0    9   \n",
              "\n",
              "        Education  Income  \n",
              "253670          6       4  \n",
              "253671          3       2  \n",
              "253672          2       1  \n",
              "253673          6       8  \n",
              "253674          6       5  \n",
              "253675          6       7  \n",
              "253676          2       4  \n",
              "253677          5       2  \n",
              "253678          5       1  \n",
              "253679          6       2  \n",
              "\n",
              "[10 rows x 22 columns]"
            ],
            "text/html": [
              "\n",
              "  <div id=\"df-d9a785c3-64f6-4bbb-9f47-36c3851e334f\">\n",
              "    <div class=\"colab-df-container\">\n",
              "      <div>\n",
              "<style scoped>\n",
              "    .dataframe tbody tr th:only-of-type {\n",
              "        vertical-align: middle;\n",
              "    }\n",
              "\n",
              "    .dataframe tbody tr th {\n",
              "        vertical-align: top;\n",
              "    }\n",
              "\n",
              "    .dataframe thead th {\n",
              "        text-align: right;\n",
              "    }\n",
              "</style>\n",
              "<table border=\"1\" class=\"dataframe\">\n",
              "  <thead>\n",
              "    <tr style=\"text-align: right;\">\n",
              "      <th></th>\n",
              "      <th>Diabetes_012</th>\n",
              "      <th>HighBP</th>\n",
              "      <th>HighChol</th>\n",
              "      <th>CholCheck</th>\n",
              "      <th>BMI</th>\n",
              "      <th>Smoker</th>\n",
              "      <th>Stroke</th>\n",
              "      <th>HeartDiseaseorAttack</th>\n",
              "      <th>PhysActivity</th>\n",
              "      <th>Fruits</th>\n",
              "      <th>...</th>\n",
              "      <th>AnyHealthcare</th>\n",
              "      <th>NoDocbcCost</th>\n",
              "      <th>GenHlth</th>\n",
              "      <th>MentHlth</th>\n",
              "      <th>PhysHlth</th>\n",
              "      <th>DiffWalk</th>\n",
              "      <th>Sex</th>\n",
              "      <th>Age</th>\n",
              "      <th>Education</th>\n",
              "      <th>Income</th>\n",
              "    </tr>\n",
              "  </thead>\n",
              "  <tbody>\n",
              "    <tr>\n",
              "      <th>253670</th>\n",
              "      <td>2</td>\n",
              "      <td>1</td>\n",
              "      <td>1</td>\n",
              "      <td>1</td>\n",
              "      <td>25</td>\n",
              "      <td>0</td>\n",
              "      <td>0</td>\n",
              "      <td>1</td>\n",
              "      <td>0</td>\n",
              "      <td>1</td>\n",
              "      <td>...</td>\n",
              "      <td>1</td>\n",
              "      <td>0</td>\n",
              "      <td>5</td>\n",
              "      <td>15</td>\n",
              "      <td>0</td>\n",
              "      <td>1</td>\n",
              "      <td>0</td>\n",
              "      <td>13</td>\n",
              "      <td>6</td>\n",
              "      <td>4</td>\n",
              "    </tr>\n",
              "    <tr>\n",
              "      <th>253671</th>\n",
              "      <td>0</td>\n",
              "      <td>1</td>\n",
              "      <td>1</td>\n",
              "      <td>1</td>\n",
              "      <td>23</td>\n",
              "      <td>0</td>\n",
              "      <td>1</td>\n",
              "      <td>1</td>\n",
              "      <td>0</td>\n",
              "      <td>0</td>\n",
              "      <td>...</td>\n",
              "      <td>1</td>\n",
              "      <td>1</td>\n",
              "      <td>4</td>\n",
              "      <td>0</td>\n",
              "      <td>5</td>\n",
              "      <td>0</td>\n",
              "      <td>1</td>\n",
              "      <td>8</td>\n",
              "      <td>3</td>\n",
              "      <td>2</td>\n",
              "    </tr>\n",
              "    <tr>\n",
              "      <th>253672</th>\n",
              "      <td>0</td>\n",
              "      <td>1</td>\n",
              "      <td>0</td>\n",
              "      <td>1</td>\n",
              "      <td>30</td>\n",
              "      <td>1</td>\n",
              "      <td>0</td>\n",
              "      <td>1</td>\n",
              "      <td>1</td>\n",
              "      <td>1</td>\n",
              "      <td>...</td>\n",
              "      <td>1</td>\n",
              "      <td>0</td>\n",
              "      <td>3</td>\n",
              "      <td>0</td>\n",
              "      <td>0</td>\n",
              "      <td>0</td>\n",
              "      <td>1</td>\n",
              "      <td>12</td>\n",
              "      <td>2</td>\n",
              "      <td>1</td>\n",
              "    </tr>\n",
              "    <tr>\n",
              "      <th>253673</th>\n",
              "      <td>0</td>\n",
              "      <td>1</td>\n",
              "      <td>0</td>\n",
              "      <td>1</td>\n",
              "      <td>42</td>\n",
              "      <td>0</td>\n",
              "      <td>0</td>\n",
              "      <td>0</td>\n",
              "      <td>1</td>\n",
              "      <td>1</td>\n",
              "      <td>...</td>\n",
              "      <td>1</td>\n",
              "      <td>0</td>\n",
              "      <td>3</td>\n",
              "      <td>14</td>\n",
              "      <td>4</td>\n",
              "      <td>0</td>\n",
              "      <td>1</td>\n",
              "      <td>3</td>\n",
              "      <td>6</td>\n",
              "      <td>8</td>\n",
              "    </tr>\n",
              "    <tr>\n",
              "      <th>253674</th>\n",
              "      <td>0</td>\n",
              "      <td>0</td>\n",
              "      <td>0</td>\n",
              "      <td>1</td>\n",
              "      <td>27</td>\n",
              "      <td>0</td>\n",
              "      <td>0</td>\n",
              "      <td>0</td>\n",
              "      <td>0</td>\n",
              "      <td>0</td>\n",
              "      <td>...</td>\n",
              "      <td>1</td>\n",
              "      <td>0</td>\n",
              "      <td>1</td>\n",
              "      <td>0</td>\n",
              "      <td>0</td>\n",
              "      <td>0</td>\n",
              "      <td>0</td>\n",
              "      <td>3</td>\n",
              "      <td>6</td>\n",
              "      <td>5</td>\n",
              "    </tr>\n",
              "    <tr>\n",
              "      <th>253675</th>\n",
              "      <td>0</td>\n",
              "      <td>1</td>\n",
              "      <td>1</td>\n",
              "      <td>1</td>\n",
              "      <td>45</td>\n",
              "      <td>0</td>\n",
              "      <td>0</td>\n",
              "      <td>0</td>\n",
              "      <td>0</td>\n",
              "      <td>1</td>\n",
              "      <td>...</td>\n",
              "      <td>1</td>\n",
              "      <td>0</td>\n",
              "      <td>3</td>\n",
              "      <td>0</td>\n",
              "      <td>5</td>\n",
              "      <td>0</td>\n",
              "      <td>1</td>\n",
              "      <td>5</td>\n",
              "      <td>6</td>\n",
              "      <td>7</td>\n",
              "    </tr>\n",
              "    <tr>\n",
              "      <th>253676</th>\n",
              "      <td>2</td>\n",
              "      <td>1</td>\n",
              "      <td>1</td>\n",
              "      <td>1</td>\n",
              "      <td>18</td>\n",
              "      <td>0</td>\n",
              "      <td>0</td>\n",
              "      <td>0</td>\n",
              "      <td>0</td>\n",
              "      <td>0</td>\n",
              "      <td>...</td>\n",
              "      <td>1</td>\n",
              "      <td>0</td>\n",
              "      <td>4</td>\n",
              "      <td>0</td>\n",
              "      <td>0</td>\n",
              "      <td>1</td>\n",
              "      <td>0</td>\n",
              "      <td>11</td>\n",
              "      <td>2</td>\n",
              "      <td>4</td>\n",
              "    </tr>\n",
              "    <tr>\n",
              "      <th>253677</th>\n",
              "      <td>0</td>\n",
              "      <td>0</td>\n",
              "      <td>0</td>\n",
              "      <td>1</td>\n",
              "      <td>28</td>\n",
              "      <td>0</td>\n",
              "      <td>0</td>\n",
              "      <td>0</td>\n",
              "      <td>1</td>\n",
              "      <td>1</td>\n",
              "      <td>...</td>\n",
              "      <td>1</td>\n",
              "      <td>0</td>\n",
              "      <td>1</td>\n",
              "      <td>0</td>\n",
              "      <td>0</td>\n",
              "      <td>0</td>\n",
              "      <td>0</td>\n",
              "      <td>2</td>\n",
              "      <td>5</td>\n",
              "      <td>2</td>\n",
              "    </tr>\n",
              "    <tr>\n",
              "      <th>253678</th>\n",
              "      <td>0</td>\n",
              "      <td>1</td>\n",
              "      <td>0</td>\n",
              "      <td>1</td>\n",
              "      <td>23</td>\n",
              "      <td>0</td>\n",
              "      <td>0</td>\n",
              "      <td>0</td>\n",
              "      <td>0</td>\n",
              "      <td>1</td>\n",
              "      <td>...</td>\n",
              "      <td>1</td>\n",
              "      <td>0</td>\n",
              "      <td>3</td>\n",
              "      <td>0</td>\n",
              "      <td>0</td>\n",
              "      <td>0</td>\n",
              "      <td>1</td>\n",
              "      <td>7</td>\n",
              "      <td>5</td>\n",
              "      <td>1</td>\n",
              "    </tr>\n",
              "    <tr>\n",
              "      <th>253679</th>\n",
              "      <td>2</td>\n",
              "      <td>1</td>\n",
              "      <td>1</td>\n",
              "      <td>1</td>\n",
              "      <td>25</td>\n",
              "      <td>0</td>\n",
              "      <td>0</td>\n",
              "      <td>1</td>\n",
              "      <td>1</td>\n",
              "      <td>1</td>\n",
              "      <td>...</td>\n",
              "      <td>1</td>\n",
              "      <td>0</td>\n",
              "      <td>2</td>\n",
              "      <td>0</td>\n",
              "      <td>0</td>\n",
              "      <td>0</td>\n",
              "      <td>0</td>\n",
              "      <td>9</td>\n",
              "      <td>6</td>\n",
              "      <td>2</td>\n",
              "    </tr>\n",
              "  </tbody>\n",
              "</table>\n",
              "<p>10 rows × 22 columns</p>\n",
              "</div>\n",
              "      <button class=\"colab-df-convert\" onclick=\"convertToInteractive('df-d9a785c3-64f6-4bbb-9f47-36c3851e334f')\"\n",
              "              title=\"Convert this dataframe to an interactive table.\"\n",
              "              style=\"display:none;\">\n",
              "        \n",
              "  <svg xmlns=\"http://www.w3.org/2000/svg\" height=\"24px\"viewBox=\"0 0 24 24\"\n",
              "       width=\"24px\">\n",
              "    <path d=\"M0 0h24v24H0V0z\" fill=\"none\"/>\n",
              "    <path d=\"M18.56 5.44l.94 2.06.94-2.06 2.06-.94-2.06-.94-.94-2.06-.94 2.06-2.06.94zm-11 1L8.5 8.5l.94-2.06 2.06-.94-2.06-.94L8.5 2.5l-.94 2.06-2.06.94zm10 10l.94 2.06.94-2.06 2.06-.94-2.06-.94-.94-2.06-.94 2.06-2.06.94z\"/><path d=\"M17.41 7.96l-1.37-1.37c-.4-.4-.92-.59-1.43-.59-.52 0-1.04.2-1.43.59L10.3 9.45l-7.72 7.72c-.78.78-.78 2.05 0 2.83L4 21.41c.39.39.9.59 1.41.59.51 0 1.02-.2 1.41-.59l7.78-7.78 2.81-2.81c.8-.78.8-2.07 0-2.86zM5.41 20L4 18.59l7.72-7.72 1.47 1.35L5.41 20z\"/>\n",
              "  </svg>\n",
              "      </button>\n",
              "      \n",
              "  <style>\n",
              "    .colab-df-container {\n",
              "      display:flex;\n",
              "      flex-wrap:wrap;\n",
              "      gap: 12px;\n",
              "    }\n",
              "\n",
              "    .colab-df-convert {\n",
              "      background-color: #E8F0FE;\n",
              "      border: none;\n",
              "      border-radius: 50%;\n",
              "      cursor: pointer;\n",
              "      display: none;\n",
              "      fill: #1967D2;\n",
              "      height: 32px;\n",
              "      padding: 0 0 0 0;\n",
              "      width: 32px;\n",
              "    }\n",
              "\n",
              "    .colab-df-convert:hover {\n",
              "      background-color: #E2EBFA;\n",
              "      box-shadow: 0px 1px 2px rgba(60, 64, 67, 0.3), 0px 1px 3px 1px rgba(60, 64, 67, 0.15);\n",
              "      fill: #174EA6;\n",
              "    }\n",
              "\n",
              "    [theme=dark] .colab-df-convert {\n",
              "      background-color: #3B4455;\n",
              "      fill: #D2E3FC;\n",
              "    }\n",
              "\n",
              "    [theme=dark] .colab-df-convert:hover {\n",
              "      background-color: #434B5C;\n",
              "      box-shadow: 0px 1px 3px 1px rgba(0, 0, 0, 0.15);\n",
              "      filter: drop-shadow(0px 1px 2px rgba(0, 0, 0, 0.3));\n",
              "      fill: #FFFFFF;\n",
              "    }\n",
              "  </style>\n",
              "\n",
              "      <script>\n",
              "        const buttonEl =\n",
              "          document.querySelector('#df-d9a785c3-64f6-4bbb-9f47-36c3851e334f button.colab-df-convert');\n",
              "        buttonEl.style.display =\n",
              "          google.colab.kernel.accessAllowed ? 'block' : 'none';\n",
              "\n",
              "        async function convertToInteractive(key) {\n",
              "          const element = document.querySelector('#df-d9a785c3-64f6-4bbb-9f47-36c3851e334f');\n",
              "          const dataTable =\n",
              "            await google.colab.kernel.invokeFunction('convertToInteractive',\n",
              "                                                     [key], {});\n",
              "          if (!dataTable) return;\n",
              "\n",
              "          const docLinkHtml = 'Like what you see? Visit the ' +\n",
              "            '<a target=\"_blank\" href=https://colab.research.google.com/notebooks/data_table.ipynb>data table notebook</a>'\n",
              "            + ' to learn more about interactive tables.';\n",
              "          element.innerHTML = '';\n",
              "          dataTable['output_type'] = 'display_data';\n",
              "          await google.colab.output.renderOutput(dataTable, element);\n",
              "          const docLink = document.createElement('div');\n",
              "          docLink.innerHTML = docLinkHtml;\n",
              "          element.appendChild(docLink);\n",
              "        }\n",
              "      </script>\n",
              "    </div>\n",
              "  </div>\n",
              "  "
            ]
          },
          "metadata": {},
          "execution_count": 20
        }
      ]
    },
    {
      "cell_type": "code",
      "source": [
        "#dispays the shape of the dataset. technically the total number of rows and colums in the dataset\n",
        "df.shape"
      ],
      "metadata": {
        "id": "LyD0t0Cb1h1T",
        "outputId": "b1c5350a-5134-4954-c022-244d0e6cbb14",
        "colab": {
          "base_uri": "https://localhost:8080/"
        }
      },
      "execution_count": 21,
      "outputs": [
        {
          "output_type": "execute_result",
          "data": {
            "text/plain": [
              "(253680, 22)"
            ]
          },
          "metadata": {},
          "execution_count": 21
        }
      ]
    },
    {
      "cell_type": "code",
      "source": [
        "#to get the list of types of all the columns \n",
        "df.dtypes"
      ],
      "metadata": {
        "id": "VtNCbejl1knP",
        "outputId": "e63eafb5-e916-4e08-93c5-b22f61d312be",
        "colab": {
          "base_uri": "https://localhost:8080/"
        }
      },
      "execution_count": 22,
      "outputs": [
        {
          "output_type": "execute_result",
          "data": {
            "text/plain": [
              "Diabetes_012            int64\n",
              "HighBP                  int64\n",
              "HighChol                int64\n",
              "CholCheck               int64\n",
              "BMI                     int64\n",
              "Smoker                  int64\n",
              "Stroke                  int64\n",
              "HeartDiseaseorAttack    int64\n",
              "PhysActivity            int64\n",
              "Fruits                  int64\n",
              "Veggies                 int64\n",
              "HvyAlcoholConsump       int64\n",
              "AnyHealthcare           int64\n",
              "NoDocbcCost             int64\n",
              "GenHlth                 int64\n",
              "MentHlth                int64\n",
              "PhysHlth                int64\n",
              "DiffWalk                int64\n",
              "Sex                     int64\n",
              "Age                     int64\n",
              "Education               int64\n",
              "Income                  int64\n",
              "dtype: object"
            ]
          },
          "metadata": {},
          "execution_count": 22
        }
      ]
    },
    {
      "cell_type": "code",
      "source": [
        "#to check Information about the data and the data types of each respective attribute.\n",
        "#Bascally finding out if the dateset has any null value.\n",
        "df.info()"
      ],
      "metadata": {
        "id": "Y65vRKRs1nu7",
        "outputId": "fbdb9743-8579-4a00-b61b-2397d0afe24d",
        "colab": {
          "base_uri": "https://localhost:8080/"
        }
      },
      "execution_count": 23,
      "outputs": [
        {
          "output_type": "stream",
          "name": "stdout",
          "text": [
            "<class 'pandas.core.frame.DataFrame'>\n",
            "RangeIndex: 253680 entries, 0 to 253679\n",
            "Data columns (total 22 columns):\n",
            " #   Column                Non-Null Count   Dtype\n",
            "---  ------                --------------   -----\n",
            " 0   Diabetes_012          253680 non-null  int64\n",
            " 1   HighBP                253680 non-null  int64\n",
            " 2   HighChol              253680 non-null  int64\n",
            " 3   CholCheck             253680 non-null  int64\n",
            " 4   BMI                   253680 non-null  int64\n",
            " 5   Smoker                253680 non-null  int64\n",
            " 6   Stroke                253680 non-null  int64\n",
            " 7   HeartDiseaseorAttack  253680 non-null  int64\n",
            " 8   PhysActivity          253680 non-null  int64\n",
            " 9   Fruits                253680 non-null  int64\n",
            " 10  Veggies               253680 non-null  int64\n",
            " 11  HvyAlcoholConsump     253680 non-null  int64\n",
            " 12  AnyHealthcare         253680 non-null  int64\n",
            " 13  NoDocbcCost           253680 non-null  int64\n",
            " 14  GenHlth               253680 non-null  int64\n",
            " 15  MentHlth              253680 non-null  int64\n",
            " 16  PhysHlth              253680 non-null  int64\n",
            " 17  DiffWalk              253680 non-null  int64\n",
            " 18  Sex                   253680 non-null  int64\n",
            " 19  Age                   253680 non-null  int64\n",
            " 20  Education             253680 non-null  int64\n",
            " 21  Income                253680 non-null  int64\n",
            "dtypes: int64(22)\n",
            "memory usage: 42.6 MB\n"
          ]
        }
      ]
    },
    {
      "cell_type": "code",
      "source": [
        "df.describe()"
      ],
      "metadata": {
        "id": "P0DPur4c1qw9",
        "outputId": "44d45351-88b4-4379-d27e-20a89a6646df",
        "colab": {
          "base_uri": "https://localhost:8080/",
          "height": 394
        }
      },
      "execution_count": 24,
      "outputs": [
        {
          "output_type": "execute_result",
          "data": {
            "text/plain": [
              "        Diabetes_012         HighBP       HighChol      CholCheck  \\\n",
              "count  253680.000000  253680.000000  253680.000000  253680.000000   \n",
              "mean        0.296921       0.429001       0.424121       0.962670   \n",
              "std         0.698160       0.494934       0.494210       0.189571   \n",
              "min         0.000000       0.000000       0.000000       0.000000   \n",
              "25%         0.000000       0.000000       0.000000       1.000000   \n",
              "50%         0.000000       0.000000       0.000000       1.000000   \n",
              "75%         0.000000       1.000000       1.000000       1.000000   \n",
              "max         2.000000       1.000000       1.000000       1.000000   \n",
              "\n",
              "                 BMI         Smoker         Stroke  HeartDiseaseorAttack  \\\n",
              "count  253680.000000  253680.000000  253680.000000         253680.000000   \n",
              "mean       28.382364       0.443169       0.040571              0.094186   \n",
              "std         6.608694       0.496761       0.197294              0.292087   \n",
              "min        12.000000       0.000000       0.000000              0.000000   \n",
              "25%        24.000000       0.000000       0.000000              0.000000   \n",
              "50%        27.000000       0.000000       0.000000              0.000000   \n",
              "75%        31.000000       1.000000       0.000000              0.000000   \n",
              "max        98.000000       1.000000       1.000000              1.000000   \n",
              "\n",
              "        PhysActivity         Fruits  ...  AnyHealthcare    NoDocbcCost  \\\n",
              "count  253680.000000  253680.000000  ...  253680.000000  253680.000000   \n",
              "mean        0.756544       0.634256  ...       0.951053       0.084177   \n",
              "std         0.429169       0.481639  ...       0.215759       0.277654   \n",
              "min         0.000000       0.000000  ...       0.000000       0.000000   \n",
              "25%         1.000000       0.000000  ...       1.000000       0.000000   \n",
              "50%         1.000000       1.000000  ...       1.000000       0.000000   \n",
              "75%         1.000000       1.000000  ...       1.000000       0.000000   \n",
              "max         1.000000       1.000000  ...       1.000000       1.000000   \n",
              "\n",
              "             GenHlth       MentHlth       PhysHlth       DiffWalk  \\\n",
              "count  253680.000000  253680.000000  253680.000000  253680.000000   \n",
              "mean        2.511392       3.184772       4.242081       0.168224   \n",
              "std         1.068477       7.412847       8.717951       0.374066   \n",
              "min         1.000000       0.000000       0.000000       0.000000   \n",
              "25%         2.000000       0.000000       0.000000       0.000000   \n",
              "50%         2.000000       0.000000       0.000000       0.000000   \n",
              "75%         3.000000       2.000000       3.000000       0.000000   \n",
              "max         5.000000      30.000000      30.000000       1.000000   \n",
              "\n",
              "                 Sex            Age      Education         Income  \n",
              "count  253680.000000  253680.000000  253680.000000  253680.000000  \n",
              "mean        0.440342       8.032119       5.050434       6.053875  \n",
              "std         0.496429       3.054220       0.985774       2.071148  \n",
              "min         0.000000       1.000000       1.000000       1.000000  \n",
              "25%         0.000000       6.000000       4.000000       5.000000  \n",
              "50%         0.000000       8.000000       5.000000       7.000000  \n",
              "75%         1.000000      10.000000       6.000000       8.000000  \n",
              "max         1.000000      13.000000       6.000000       8.000000  \n",
              "\n",
              "[8 rows x 22 columns]"
            ],
            "text/html": [
              "\n",
              "  <div id=\"df-cc622f98-d62d-4b3f-9353-25a7a94eb813\">\n",
              "    <div class=\"colab-df-container\">\n",
              "      <div>\n",
              "<style scoped>\n",
              "    .dataframe tbody tr th:only-of-type {\n",
              "        vertical-align: middle;\n",
              "    }\n",
              "\n",
              "    .dataframe tbody tr th {\n",
              "        vertical-align: top;\n",
              "    }\n",
              "\n",
              "    .dataframe thead th {\n",
              "        text-align: right;\n",
              "    }\n",
              "</style>\n",
              "<table border=\"1\" class=\"dataframe\">\n",
              "  <thead>\n",
              "    <tr style=\"text-align: right;\">\n",
              "      <th></th>\n",
              "      <th>Diabetes_012</th>\n",
              "      <th>HighBP</th>\n",
              "      <th>HighChol</th>\n",
              "      <th>CholCheck</th>\n",
              "      <th>BMI</th>\n",
              "      <th>Smoker</th>\n",
              "      <th>Stroke</th>\n",
              "      <th>HeartDiseaseorAttack</th>\n",
              "      <th>PhysActivity</th>\n",
              "      <th>Fruits</th>\n",
              "      <th>...</th>\n",
              "      <th>AnyHealthcare</th>\n",
              "      <th>NoDocbcCost</th>\n",
              "      <th>GenHlth</th>\n",
              "      <th>MentHlth</th>\n",
              "      <th>PhysHlth</th>\n",
              "      <th>DiffWalk</th>\n",
              "      <th>Sex</th>\n",
              "      <th>Age</th>\n",
              "      <th>Education</th>\n",
              "      <th>Income</th>\n",
              "    </tr>\n",
              "  </thead>\n",
              "  <tbody>\n",
              "    <tr>\n",
              "      <th>count</th>\n",
              "      <td>253680.000000</td>\n",
              "      <td>253680.000000</td>\n",
              "      <td>253680.000000</td>\n",
              "      <td>253680.000000</td>\n",
              "      <td>253680.000000</td>\n",
              "      <td>253680.000000</td>\n",
              "      <td>253680.000000</td>\n",
              "      <td>253680.000000</td>\n",
              "      <td>253680.000000</td>\n",
              "      <td>253680.000000</td>\n",
              "      <td>...</td>\n",
              "      <td>253680.000000</td>\n",
              "      <td>253680.000000</td>\n",
              "      <td>253680.000000</td>\n",
              "      <td>253680.000000</td>\n",
              "      <td>253680.000000</td>\n",
              "      <td>253680.000000</td>\n",
              "      <td>253680.000000</td>\n",
              "      <td>253680.000000</td>\n",
              "      <td>253680.000000</td>\n",
              "      <td>253680.000000</td>\n",
              "    </tr>\n",
              "    <tr>\n",
              "      <th>mean</th>\n",
              "      <td>0.296921</td>\n",
              "      <td>0.429001</td>\n",
              "      <td>0.424121</td>\n",
              "      <td>0.962670</td>\n",
              "      <td>28.382364</td>\n",
              "      <td>0.443169</td>\n",
              "      <td>0.040571</td>\n",
              "      <td>0.094186</td>\n",
              "      <td>0.756544</td>\n",
              "      <td>0.634256</td>\n",
              "      <td>...</td>\n",
              "      <td>0.951053</td>\n",
              "      <td>0.084177</td>\n",
              "      <td>2.511392</td>\n",
              "      <td>3.184772</td>\n",
              "      <td>4.242081</td>\n",
              "      <td>0.168224</td>\n",
              "      <td>0.440342</td>\n",
              "      <td>8.032119</td>\n",
              "      <td>5.050434</td>\n",
              "      <td>6.053875</td>\n",
              "    </tr>\n",
              "    <tr>\n",
              "      <th>std</th>\n",
              "      <td>0.698160</td>\n",
              "      <td>0.494934</td>\n",
              "      <td>0.494210</td>\n",
              "      <td>0.189571</td>\n",
              "      <td>6.608694</td>\n",
              "      <td>0.496761</td>\n",
              "      <td>0.197294</td>\n",
              "      <td>0.292087</td>\n",
              "      <td>0.429169</td>\n",
              "      <td>0.481639</td>\n",
              "      <td>...</td>\n",
              "      <td>0.215759</td>\n",
              "      <td>0.277654</td>\n",
              "      <td>1.068477</td>\n",
              "      <td>7.412847</td>\n",
              "      <td>8.717951</td>\n",
              "      <td>0.374066</td>\n",
              "      <td>0.496429</td>\n",
              "      <td>3.054220</td>\n",
              "      <td>0.985774</td>\n",
              "      <td>2.071148</td>\n",
              "    </tr>\n",
              "    <tr>\n",
              "      <th>min</th>\n",
              "      <td>0.000000</td>\n",
              "      <td>0.000000</td>\n",
              "      <td>0.000000</td>\n",
              "      <td>0.000000</td>\n",
              "      <td>12.000000</td>\n",
              "      <td>0.000000</td>\n",
              "      <td>0.000000</td>\n",
              "      <td>0.000000</td>\n",
              "      <td>0.000000</td>\n",
              "      <td>0.000000</td>\n",
              "      <td>...</td>\n",
              "      <td>0.000000</td>\n",
              "      <td>0.000000</td>\n",
              "      <td>1.000000</td>\n",
              "      <td>0.000000</td>\n",
              "      <td>0.000000</td>\n",
              "      <td>0.000000</td>\n",
              "      <td>0.000000</td>\n",
              "      <td>1.000000</td>\n",
              "      <td>1.000000</td>\n",
              "      <td>1.000000</td>\n",
              "    </tr>\n",
              "    <tr>\n",
              "      <th>25%</th>\n",
              "      <td>0.000000</td>\n",
              "      <td>0.000000</td>\n",
              "      <td>0.000000</td>\n",
              "      <td>1.000000</td>\n",
              "      <td>24.000000</td>\n",
              "      <td>0.000000</td>\n",
              "      <td>0.000000</td>\n",
              "      <td>0.000000</td>\n",
              "      <td>1.000000</td>\n",
              "      <td>0.000000</td>\n",
              "      <td>...</td>\n",
              "      <td>1.000000</td>\n",
              "      <td>0.000000</td>\n",
              "      <td>2.000000</td>\n",
              "      <td>0.000000</td>\n",
              "      <td>0.000000</td>\n",
              "      <td>0.000000</td>\n",
              "      <td>0.000000</td>\n",
              "      <td>6.000000</td>\n",
              "      <td>4.000000</td>\n",
              "      <td>5.000000</td>\n",
              "    </tr>\n",
              "    <tr>\n",
              "      <th>50%</th>\n",
              "      <td>0.000000</td>\n",
              "      <td>0.000000</td>\n",
              "      <td>0.000000</td>\n",
              "      <td>1.000000</td>\n",
              "      <td>27.000000</td>\n",
              "      <td>0.000000</td>\n",
              "      <td>0.000000</td>\n",
              "      <td>0.000000</td>\n",
              "      <td>1.000000</td>\n",
              "      <td>1.000000</td>\n",
              "      <td>...</td>\n",
              "      <td>1.000000</td>\n",
              "      <td>0.000000</td>\n",
              "      <td>2.000000</td>\n",
              "      <td>0.000000</td>\n",
              "      <td>0.000000</td>\n",
              "      <td>0.000000</td>\n",
              "      <td>0.000000</td>\n",
              "      <td>8.000000</td>\n",
              "      <td>5.000000</td>\n",
              "      <td>7.000000</td>\n",
              "    </tr>\n",
              "    <tr>\n",
              "      <th>75%</th>\n",
              "      <td>0.000000</td>\n",
              "      <td>1.000000</td>\n",
              "      <td>1.000000</td>\n",
              "      <td>1.000000</td>\n",
              "      <td>31.000000</td>\n",
              "      <td>1.000000</td>\n",
              "      <td>0.000000</td>\n",
              "      <td>0.000000</td>\n",
              "      <td>1.000000</td>\n",
              "      <td>1.000000</td>\n",
              "      <td>...</td>\n",
              "      <td>1.000000</td>\n",
              "      <td>0.000000</td>\n",
              "      <td>3.000000</td>\n",
              "      <td>2.000000</td>\n",
              "      <td>3.000000</td>\n",
              "      <td>0.000000</td>\n",
              "      <td>1.000000</td>\n",
              "      <td>10.000000</td>\n",
              "      <td>6.000000</td>\n",
              "      <td>8.000000</td>\n",
              "    </tr>\n",
              "    <tr>\n",
              "      <th>max</th>\n",
              "      <td>2.000000</td>\n",
              "      <td>1.000000</td>\n",
              "      <td>1.000000</td>\n",
              "      <td>1.000000</td>\n",
              "      <td>98.000000</td>\n",
              "      <td>1.000000</td>\n",
              "      <td>1.000000</td>\n",
              "      <td>1.000000</td>\n",
              "      <td>1.000000</td>\n",
              "      <td>1.000000</td>\n",
              "      <td>...</td>\n",
              "      <td>1.000000</td>\n",
              "      <td>1.000000</td>\n",
              "      <td>5.000000</td>\n",
              "      <td>30.000000</td>\n",
              "      <td>30.000000</td>\n",
              "      <td>1.000000</td>\n",
              "      <td>1.000000</td>\n",
              "      <td>13.000000</td>\n",
              "      <td>6.000000</td>\n",
              "      <td>8.000000</td>\n",
              "    </tr>\n",
              "  </tbody>\n",
              "</table>\n",
              "<p>8 rows × 22 columns</p>\n",
              "</div>\n",
              "      <button class=\"colab-df-convert\" onclick=\"convertToInteractive('df-cc622f98-d62d-4b3f-9353-25a7a94eb813')\"\n",
              "              title=\"Convert this dataframe to an interactive table.\"\n",
              "              style=\"display:none;\">\n",
              "        \n",
              "  <svg xmlns=\"http://www.w3.org/2000/svg\" height=\"24px\"viewBox=\"0 0 24 24\"\n",
              "       width=\"24px\">\n",
              "    <path d=\"M0 0h24v24H0V0z\" fill=\"none\"/>\n",
              "    <path d=\"M18.56 5.44l.94 2.06.94-2.06 2.06-.94-2.06-.94-.94-2.06-.94 2.06-2.06.94zm-11 1L8.5 8.5l.94-2.06 2.06-.94-2.06-.94L8.5 2.5l-.94 2.06-2.06.94zm10 10l.94 2.06.94-2.06 2.06-.94-2.06-.94-.94-2.06-.94 2.06-2.06.94z\"/><path d=\"M17.41 7.96l-1.37-1.37c-.4-.4-.92-.59-1.43-.59-.52 0-1.04.2-1.43.59L10.3 9.45l-7.72 7.72c-.78.78-.78 2.05 0 2.83L4 21.41c.39.39.9.59 1.41.59.51 0 1.02-.2 1.41-.59l7.78-7.78 2.81-2.81c.8-.78.8-2.07 0-2.86zM5.41 20L4 18.59l7.72-7.72 1.47 1.35L5.41 20z\"/>\n",
              "  </svg>\n",
              "      </button>\n",
              "      \n",
              "  <style>\n",
              "    .colab-df-container {\n",
              "      display:flex;\n",
              "      flex-wrap:wrap;\n",
              "      gap: 12px;\n",
              "    }\n",
              "\n",
              "    .colab-df-convert {\n",
              "      background-color: #E8F0FE;\n",
              "      border: none;\n",
              "      border-radius: 50%;\n",
              "      cursor: pointer;\n",
              "      display: none;\n",
              "      fill: #1967D2;\n",
              "      height: 32px;\n",
              "      padding: 0 0 0 0;\n",
              "      width: 32px;\n",
              "    }\n",
              "\n",
              "    .colab-df-convert:hover {\n",
              "      background-color: #E2EBFA;\n",
              "      box-shadow: 0px 1px 2px rgba(60, 64, 67, 0.3), 0px 1px 3px 1px rgba(60, 64, 67, 0.15);\n",
              "      fill: #174EA6;\n",
              "    }\n",
              "\n",
              "    [theme=dark] .colab-df-convert {\n",
              "      background-color: #3B4455;\n",
              "      fill: #D2E3FC;\n",
              "    }\n",
              "\n",
              "    [theme=dark] .colab-df-convert:hover {\n",
              "      background-color: #434B5C;\n",
              "      box-shadow: 0px 1px 3px 1px rgba(0, 0, 0, 0.15);\n",
              "      filter: drop-shadow(0px 1px 2px rgba(0, 0, 0, 0.3));\n",
              "      fill: #FFFFFF;\n",
              "    }\n",
              "  </style>\n",
              "\n",
              "      <script>\n",
              "        const buttonEl =\n",
              "          document.querySelector('#df-cc622f98-d62d-4b3f-9353-25a7a94eb813 button.colab-df-convert');\n",
              "        buttonEl.style.display =\n",
              "          google.colab.kernel.accessAllowed ? 'block' : 'none';\n",
              "\n",
              "        async function convertToInteractive(key) {\n",
              "          const element = document.querySelector('#df-cc622f98-d62d-4b3f-9353-25a7a94eb813');\n",
              "          const dataTable =\n",
              "            await google.colab.kernel.invokeFunction('convertToInteractive',\n",
              "                                                     [key], {});\n",
              "          if (!dataTable) return;\n",
              "\n",
              "          const docLinkHtml = 'Like what you see? Visit the ' +\n",
              "            '<a target=\"_blank\" href=https://colab.research.google.com/notebooks/data_table.ipynb>data table notebook</a>'\n",
              "            + ' to learn more about interactive tables.';\n",
              "          element.innerHTML = '';\n",
              "          dataTable['output_type'] = 'display_data';\n",
              "          await google.colab.output.renderOutput(dataTable, element);\n",
              "          const docLink = document.createElement('div');\n",
              "          docLink.innerHTML = docLinkHtml;\n",
              "          element.appendChild(docLink);\n",
              "        }\n",
              "      </script>\n",
              "    </div>\n",
              "  </div>\n",
              "  "
            ]
          },
          "metadata": {},
          "execution_count": 24
        }
      ]
    },
    {
      "cell_type": "code",
      "source": [
        "#Before dropping duplicates we have to check the shape first to determine if truly duplicates were removed."
      ],
      "metadata": {
        "id": "nInyz0J_144H"
      },
      "execution_count": 25,
      "outputs": []
    },
    {
      "cell_type": "code",
      "source": [
        "df.shape"
      ],
      "metadata": {
        "id": "9aeB80MU1-d9",
        "outputId": "02b843b6-0560-4457-db59-5088cd00fe0c",
        "colab": {
          "base_uri": "https://localhost:8080/"
        }
      },
      "execution_count": 26,
      "outputs": [
        {
          "output_type": "execute_result",
          "data": {
            "text/plain": [
              "(253680, 22)"
            ]
          },
          "metadata": {},
          "execution_count": 26
        }
      ]
    },
    {
      "cell_type": "code",
      "source": [
        "df= df.drop_duplicates()"
      ],
      "metadata": {
        "id": "9qz0vGEH2CoQ"
      },
      "execution_count": 27,
      "outputs": []
    },
    {
      "cell_type": "code",
      "source": [
        "df.shape"
      ],
      "metadata": {
        "id": "MmaN6ifW2FXE",
        "outputId": "4b661b78-e370-4468-fab3-15aa77c8df61",
        "colab": {
          "base_uri": "https://localhost:8080/"
        }
      },
      "execution_count": 28,
      "outputs": [
        {
          "output_type": "execute_result",
          "data": {
            "text/plain": [
              "(229781, 22)"
            ]
          },
          "metadata": {},
          "execution_count": 28
        }
      ]
    },
    {
      "cell_type": "code",
      "source": [
        "#to see what Null values present in every column in the dataset"
      ],
      "metadata": {
        "id": "4ONoGrPc2fce"
      },
      "execution_count": 29,
      "outputs": []
    },
    {
      "cell_type": "code",
      "source": [
        "df.isnull().sum()"
      ],
      "metadata": {
        "id": "ML-mNNC-2y89",
        "outputId": "7aacedd8-a5a5-4b11-f944-562c149b5f32",
        "colab": {
          "base_uri": "https://localhost:8080/"
        }
      },
      "execution_count": 30,
      "outputs": [
        {
          "output_type": "execute_result",
          "data": {
            "text/plain": [
              "Diabetes_012            0\n",
              "HighBP                  0\n",
              "HighChol                0\n",
              "CholCheck               0\n",
              "BMI                     0\n",
              "Smoker                  0\n",
              "Stroke                  0\n",
              "HeartDiseaseorAttack    0\n",
              "PhysActivity            0\n",
              "Fruits                  0\n",
              "Veggies                 0\n",
              "HvyAlcoholConsump       0\n",
              "AnyHealthcare           0\n",
              "NoDocbcCost             0\n",
              "GenHlth                 0\n",
              "MentHlth                0\n",
              "PhysHlth                0\n",
              "DiffWalk                0\n",
              "Sex                     0\n",
              "Age                     0\n",
              "Education               0\n",
              "Income                  0\n",
              "dtype: int64"
            ]
          },
          "metadata": {},
          "execution_count": 30
        }
      ]
    },
    {
      "cell_type": "code",
      "source": [
        "df.isnull().any()"
      ],
      "metadata": {
        "id": "sW6GY57t21A3",
        "outputId": "04e29943-cf30-4658-a9da-f30bccdfa387",
        "colab": {
          "base_uri": "https://localhost:8080/"
        }
      },
      "execution_count": 31,
      "outputs": [
        {
          "output_type": "execute_result",
          "data": {
            "text/plain": [
              "Diabetes_012            False\n",
              "HighBP                  False\n",
              "HighChol                False\n",
              "CholCheck               False\n",
              "BMI                     False\n",
              "Smoker                  False\n",
              "Stroke                  False\n",
              "HeartDiseaseorAttack    False\n",
              "PhysActivity            False\n",
              "Fruits                  False\n",
              "Veggies                 False\n",
              "HvyAlcoholConsump       False\n",
              "AnyHealthcare           False\n",
              "NoDocbcCost             False\n",
              "GenHlth                 False\n",
              "MentHlth                False\n",
              "PhysHlth                False\n",
              "DiffWalk                False\n",
              "Sex                     False\n",
              "Age                     False\n",
              "Education               False\n",
              "Income                  False\n",
              "dtype: bool"
            ]
          },
          "metadata": {},
          "execution_count": 31
        }
      ]
    },
    {
      "cell_type": "code",
      "source": [
        "#Found zero values in dataset\n",
        "# replacing zero values with the mean of the column\n",
        "df['Smoker'] = df['Smoker'].replace(0,df['Smoker'].mean())\n",
        "df['Stroke'] = df['Stroke'].replace(0,df['Stroke'].mean())\n",
        "df['HeartDiseaseorAttack'] = df['HeartDiseaseorAttack'].replace(0,df['HeartDiseaseorAttack'].mean())\n",
        "df['Fruits'] = df['Fruits'].replace(0,df['Fruits'].mean())\n",
        "df['AnyHealthcare'] = df['AnyHealthcare'].replace(0,df['AnyHealthcare'].mean())\n",
        "df['PhysActivity'] = df['PhysActivity'].replace(0,df['PhysActivity'].mean())\n",
        "df['GenHlth'] = df['GenHlth'].replace(0,df['GenHlth'].mean())\n",
        "df['MentHlth'] = df['MentHlth'].replace(0,df['MentHlth'].mean())\n",
        "df['Age'] = df['Age'].replace(0,df['Age'].mean())\n",
        "df['HvyAlcoholConsump'] = df['HvyAlcoholConsump'].replace(0,df['HvyAlcoholConsump'].mean())\n",
        "df['Veggies'] = df['Veggies'].replace(0,df['Veggies'].mean())\n",
        "df['PhysHlth'] = df['PhysHlth'].replace(0,df['PhysHlth'].mean())\n",
        "df['DiffWalk'] = df['DiffWalk'].replace(0,df['DiffWalk'].mean())\n",
        "df['Sex'] = df['Sex'].replace(0,df['Sex'].mean())\n",
        "df['Education'] = df['Education'].replace(0,df['Education'].mean())\n",
        "df['Income'] = df['Income'].replace(0,df['Income'].mean())\n",
        "df['NoDocbcCost'] = df['NoDocbcCost'].replace(0,df['NoDocbcCost'].mean())"
      ],
      "metadata": {
        "id": "w_DUgKpG_wqC"
      },
      "execution_count": 32,
      "outputs": []
    },
    {
      "cell_type": "code",
      "source": [
        "df.describe()"
      ],
      "metadata": {
        "colab": {
          "base_uri": "https://localhost:8080/",
          "height": 394
        },
        "id": "ZWJ0Wy4i_zho",
        "outputId": "86502e9b-fddd-416f-884e-fffa5f9f0164"
      },
      "execution_count": 33,
      "outputs": [
        {
          "output_type": "execute_result",
          "data": {
            "text/plain": [
              "        Diabetes_012         HighBP       HighChol      CholCheck  \\\n",
              "count  229781.000000  229781.000000  229781.000000  229781.000000   \n",
              "mean        0.325627       0.454441       0.441760       0.959535   \n",
              "std         0.724623       0.497921       0.496598       0.197047   \n",
              "min         0.000000       0.000000       0.000000       0.000000   \n",
              "25%         0.000000       0.000000       0.000000       1.000000   \n",
              "50%         0.000000       0.000000       0.000000       1.000000   \n",
              "75%         0.000000       1.000000       1.000000       1.000000   \n",
              "max         2.000000       1.000000       1.000000       1.000000   \n",
              "\n",
              "                BMI         Smoker         Stroke  HeartDiseaseorAttack  \\\n",
              "count  229781.00000  229781.000000  229781.000000         229781.000000   \n",
              "mean       28.68567       0.714482       0.087508              0.195778   \n",
              "std         6.78636       0.266539       0.197513              0.272839   \n",
              "min        12.00000       0.465661       0.044756              0.103216   \n",
              "25%        24.00000       0.465661       0.044756              0.103216   \n",
              "50%        27.00000       0.465661       0.044756              0.103216   \n",
              "75%        32.00000       1.000000       0.044756              0.103216   \n",
              "max        98.00000       1.000000       1.000000              1.000000   \n",
              "\n",
              "        PhysActivity         Fruits  ...  AnyHealthcare    NoDocbcCost  \\\n",
              "count  229781.000000  229781.000000  ...  229781.000000  229781.000000   \n",
              "mean        0.928900       0.850205  ...       0.997092       0.177007   \n",
              "std         0.117912       0.188514  ...       0.012180       0.263236   \n",
              "min         0.733355       0.612966  ...       0.946075       0.092810   \n",
              "25%         0.733355       0.612966  ...       1.000000       0.092810   \n",
              "50%         1.000000       1.000000  ...       1.000000       0.092810   \n",
              "75%         1.000000       1.000000  ...       1.000000       0.092810   \n",
              "max         1.000000       1.000000  ...       1.000000       1.000000   \n",
              "\n",
              "             GenHlth       MentHlth       PhysHlth       DiffWalk  \\\n",
              "count  229781.000000  229781.000000  229781.000000  229781.000000   \n",
              "mean        2.601151       5.833678       7.460109       0.336601   \n",
              "std         1.064685       6.776349       7.814372       0.316601   \n",
              "min         1.000000       1.000000       1.000000       0.185507   \n",
              "25%         2.000000       3.505373       4.675178       0.185507   \n",
              "50%         3.000000       3.505373       4.675178       0.185507   \n",
              "75%         3.000000       3.505373       4.675178       0.185507   \n",
              "max         5.000000      30.000000      30.000000       1.000000   \n",
              "\n",
              "                 Sex            Age      Education         Income  \n",
              "count  229781.000000  229781.000000  229781.000000  229781.000000  \n",
              "mean        0.685538       8.086582       4.980568       5.890383  \n",
              "std         0.278306       3.093809       0.992895       2.092477  \n",
              "min         0.439231       1.000000       1.000000       1.000000  \n",
              "25%         0.439231       6.000000       4.000000       5.000000  \n",
              "50%         0.439231       8.000000       5.000000       6.000000  \n",
              "75%         1.000000      10.000000       6.000000       8.000000  \n",
              "max         1.000000      13.000000       6.000000       8.000000  \n",
              "\n",
              "[8 rows x 22 columns]"
            ],
            "text/html": [
              "\n",
              "  <div id=\"df-bd51784f-0635-4485-8484-c68e9d1838f4\">\n",
              "    <div class=\"colab-df-container\">\n",
              "      <div>\n",
              "<style scoped>\n",
              "    .dataframe tbody tr th:only-of-type {\n",
              "        vertical-align: middle;\n",
              "    }\n",
              "\n",
              "    .dataframe tbody tr th {\n",
              "        vertical-align: top;\n",
              "    }\n",
              "\n",
              "    .dataframe thead th {\n",
              "        text-align: right;\n",
              "    }\n",
              "</style>\n",
              "<table border=\"1\" class=\"dataframe\">\n",
              "  <thead>\n",
              "    <tr style=\"text-align: right;\">\n",
              "      <th></th>\n",
              "      <th>Diabetes_012</th>\n",
              "      <th>HighBP</th>\n",
              "      <th>HighChol</th>\n",
              "      <th>CholCheck</th>\n",
              "      <th>BMI</th>\n",
              "      <th>Smoker</th>\n",
              "      <th>Stroke</th>\n",
              "      <th>HeartDiseaseorAttack</th>\n",
              "      <th>PhysActivity</th>\n",
              "      <th>Fruits</th>\n",
              "      <th>...</th>\n",
              "      <th>AnyHealthcare</th>\n",
              "      <th>NoDocbcCost</th>\n",
              "      <th>GenHlth</th>\n",
              "      <th>MentHlth</th>\n",
              "      <th>PhysHlth</th>\n",
              "      <th>DiffWalk</th>\n",
              "      <th>Sex</th>\n",
              "      <th>Age</th>\n",
              "      <th>Education</th>\n",
              "      <th>Income</th>\n",
              "    </tr>\n",
              "  </thead>\n",
              "  <tbody>\n",
              "    <tr>\n",
              "      <th>count</th>\n",
              "      <td>229781.000000</td>\n",
              "      <td>229781.000000</td>\n",
              "      <td>229781.000000</td>\n",
              "      <td>229781.000000</td>\n",
              "      <td>229781.00000</td>\n",
              "      <td>229781.000000</td>\n",
              "      <td>229781.000000</td>\n",
              "      <td>229781.000000</td>\n",
              "      <td>229781.000000</td>\n",
              "      <td>229781.000000</td>\n",
              "      <td>...</td>\n",
              "      <td>229781.000000</td>\n",
              "      <td>229781.000000</td>\n",
              "      <td>229781.000000</td>\n",
              "      <td>229781.000000</td>\n",
              "      <td>229781.000000</td>\n",
              "      <td>229781.000000</td>\n",
              "      <td>229781.000000</td>\n",
              "      <td>229781.000000</td>\n",
              "      <td>229781.000000</td>\n",
              "      <td>229781.000000</td>\n",
              "    </tr>\n",
              "    <tr>\n",
              "      <th>mean</th>\n",
              "      <td>0.325627</td>\n",
              "      <td>0.454441</td>\n",
              "      <td>0.441760</td>\n",
              "      <td>0.959535</td>\n",
              "      <td>28.68567</td>\n",
              "      <td>0.714482</td>\n",
              "      <td>0.087508</td>\n",
              "      <td>0.195778</td>\n",
              "      <td>0.928900</td>\n",
              "      <td>0.850205</td>\n",
              "      <td>...</td>\n",
              "      <td>0.997092</td>\n",
              "      <td>0.177007</td>\n",
              "      <td>2.601151</td>\n",
              "      <td>5.833678</td>\n",
              "      <td>7.460109</td>\n",
              "      <td>0.336601</td>\n",
              "      <td>0.685538</td>\n",
              "      <td>8.086582</td>\n",
              "      <td>4.980568</td>\n",
              "      <td>5.890383</td>\n",
              "    </tr>\n",
              "    <tr>\n",
              "      <th>std</th>\n",
              "      <td>0.724623</td>\n",
              "      <td>0.497921</td>\n",
              "      <td>0.496598</td>\n",
              "      <td>0.197047</td>\n",
              "      <td>6.78636</td>\n",
              "      <td>0.266539</td>\n",
              "      <td>0.197513</td>\n",
              "      <td>0.272839</td>\n",
              "      <td>0.117912</td>\n",
              "      <td>0.188514</td>\n",
              "      <td>...</td>\n",
              "      <td>0.012180</td>\n",
              "      <td>0.263236</td>\n",
              "      <td>1.064685</td>\n",
              "      <td>6.776349</td>\n",
              "      <td>7.814372</td>\n",
              "      <td>0.316601</td>\n",
              "      <td>0.278306</td>\n",
              "      <td>3.093809</td>\n",
              "      <td>0.992895</td>\n",
              "      <td>2.092477</td>\n",
              "    </tr>\n",
              "    <tr>\n",
              "      <th>min</th>\n",
              "      <td>0.000000</td>\n",
              "      <td>0.000000</td>\n",
              "      <td>0.000000</td>\n",
              "      <td>0.000000</td>\n",
              "      <td>12.00000</td>\n",
              "      <td>0.465661</td>\n",
              "      <td>0.044756</td>\n",
              "      <td>0.103216</td>\n",
              "      <td>0.733355</td>\n",
              "      <td>0.612966</td>\n",
              "      <td>...</td>\n",
              "      <td>0.946075</td>\n",
              "      <td>0.092810</td>\n",
              "      <td>1.000000</td>\n",
              "      <td>1.000000</td>\n",
              "      <td>1.000000</td>\n",
              "      <td>0.185507</td>\n",
              "      <td>0.439231</td>\n",
              "      <td>1.000000</td>\n",
              "      <td>1.000000</td>\n",
              "      <td>1.000000</td>\n",
              "    </tr>\n",
              "    <tr>\n",
              "      <th>25%</th>\n",
              "      <td>0.000000</td>\n",
              "      <td>0.000000</td>\n",
              "      <td>0.000000</td>\n",
              "      <td>1.000000</td>\n",
              "      <td>24.00000</td>\n",
              "      <td>0.465661</td>\n",
              "      <td>0.044756</td>\n",
              "      <td>0.103216</td>\n",
              "      <td>0.733355</td>\n",
              "      <td>0.612966</td>\n",
              "      <td>...</td>\n",
              "      <td>1.000000</td>\n",
              "      <td>0.092810</td>\n",
              "      <td>2.000000</td>\n",
              "      <td>3.505373</td>\n",
              "      <td>4.675178</td>\n",
              "      <td>0.185507</td>\n",
              "      <td>0.439231</td>\n",
              "      <td>6.000000</td>\n",
              "      <td>4.000000</td>\n",
              "      <td>5.000000</td>\n",
              "    </tr>\n",
              "    <tr>\n",
              "      <th>50%</th>\n",
              "      <td>0.000000</td>\n",
              "      <td>0.000000</td>\n",
              "      <td>0.000000</td>\n",
              "      <td>1.000000</td>\n",
              "      <td>27.00000</td>\n",
              "      <td>0.465661</td>\n",
              "      <td>0.044756</td>\n",
              "      <td>0.103216</td>\n",
              "      <td>1.000000</td>\n",
              "      <td>1.000000</td>\n",
              "      <td>...</td>\n",
              "      <td>1.000000</td>\n",
              "      <td>0.092810</td>\n",
              "      <td>3.000000</td>\n",
              "      <td>3.505373</td>\n",
              "      <td>4.675178</td>\n",
              "      <td>0.185507</td>\n",
              "      <td>0.439231</td>\n",
              "      <td>8.000000</td>\n",
              "      <td>5.000000</td>\n",
              "      <td>6.000000</td>\n",
              "    </tr>\n",
              "    <tr>\n",
              "      <th>75%</th>\n",
              "      <td>0.000000</td>\n",
              "      <td>1.000000</td>\n",
              "      <td>1.000000</td>\n",
              "      <td>1.000000</td>\n",
              "      <td>32.00000</td>\n",
              "      <td>1.000000</td>\n",
              "      <td>0.044756</td>\n",
              "      <td>0.103216</td>\n",
              "      <td>1.000000</td>\n",
              "      <td>1.000000</td>\n",
              "      <td>...</td>\n",
              "      <td>1.000000</td>\n",
              "      <td>0.092810</td>\n",
              "      <td>3.000000</td>\n",
              "      <td>3.505373</td>\n",
              "      <td>4.675178</td>\n",
              "      <td>0.185507</td>\n",
              "      <td>1.000000</td>\n",
              "      <td>10.000000</td>\n",
              "      <td>6.000000</td>\n",
              "      <td>8.000000</td>\n",
              "    </tr>\n",
              "    <tr>\n",
              "      <th>max</th>\n",
              "      <td>2.000000</td>\n",
              "      <td>1.000000</td>\n",
              "      <td>1.000000</td>\n",
              "      <td>1.000000</td>\n",
              "      <td>98.00000</td>\n",
              "      <td>1.000000</td>\n",
              "      <td>1.000000</td>\n",
              "      <td>1.000000</td>\n",
              "      <td>1.000000</td>\n",
              "      <td>1.000000</td>\n",
              "      <td>...</td>\n",
              "      <td>1.000000</td>\n",
              "      <td>1.000000</td>\n",
              "      <td>5.000000</td>\n",
              "      <td>30.000000</td>\n",
              "      <td>30.000000</td>\n",
              "      <td>1.000000</td>\n",
              "      <td>1.000000</td>\n",
              "      <td>13.000000</td>\n",
              "      <td>6.000000</td>\n",
              "      <td>8.000000</td>\n",
              "    </tr>\n",
              "  </tbody>\n",
              "</table>\n",
              "<p>8 rows × 22 columns</p>\n",
              "</div>\n",
              "      <button class=\"colab-df-convert\" onclick=\"convertToInteractive('df-bd51784f-0635-4485-8484-c68e9d1838f4')\"\n",
              "              title=\"Convert this dataframe to an interactive table.\"\n",
              "              style=\"display:none;\">\n",
              "        \n",
              "  <svg xmlns=\"http://www.w3.org/2000/svg\" height=\"24px\"viewBox=\"0 0 24 24\"\n",
              "       width=\"24px\">\n",
              "    <path d=\"M0 0h24v24H0V0z\" fill=\"none\"/>\n",
              "    <path d=\"M18.56 5.44l.94 2.06.94-2.06 2.06-.94-2.06-.94-.94-2.06-.94 2.06-2.06.94zm-11 1L8.5 8.5l.94-2.06 2.06-.94-2.06-.94L8.5 2.5l-.94 2.06-2.06.94zm10 10l.94 2.06.94-2.06 2.06-.94-2.06-.94-.94-2.06-.94 2.06-2.06.94z\"/><path d=\"M17.41 7.96l-1.37-1.37c-.4-.4-.92-.59-1.43-.59-.52 0-1.04.2-1.43.59L10.3 9.45l-7.72 7.72c-.78.78-.78 2.05 0 2.83L4 21.41c.39.39.9.59 1.41.59.51 0 1.02-.2 1.41-.59l7.78-7.78 2.81-2.81c.8-.78.8-2.07 0-2.86zM5.41 20L4 18.59l7.72-7.72 1.47 1.35L5.41 20z\"/>\n",
              "  </svg>\n",
              "      </button>\n",
              "      \n",
              "  <style>\n",
              "    .colab-df-container {\n",
              "      display:flex;\n",
              "      flex-wrap:wrap;\n",
              "      gap: 12px;\n",
              "    }\n",
              "\n",
              "    .colab-df-convert {\n",
              "      background-color: #E8F0FE;\n",
              "      border: none;\n",
              "      border-radius: 50%;\n",
              "      cursor: pointer;\n",
              "      display: none;\n",
              "      fill: #1967D2;\n",
              "      height: 32px;\n",
              "      padding: 0 0 0 0;\n",
              "      width: 32px;\n",
              "    }\n",
              "\n",
              "    .colab-df-convert:hover {\n",
              "      background-color: #E2EBFA;\n",
              "      box-shadow: 0px 1px 2px rgba(60, 64, 67, 0.3), 0px 1px 3px 1px rgba(60, 64, 67, 0.15);\n",
              "      fill: #174EA6;\n",
              "    }\n",
              "\n",
              "    [theme=dark] .colab-df-convert {\n",
              "      background-color: #3B4455;\n",
              "      fill: #D2E3FC;\n",
              "    }\n",
              "\n",
              "    [theme=dark] .colab-df-convert:hover {\n",
              "      background-color: #434B5C;\n",
              "      box-shadow: 0px 1px 3px 1px rgba(0, 0, 0, 0.15);\n",
              "      filter: drop-shadow(0px 1px 2px rgba(0, 0, 0, 0.3));\n",
              "      fill: #FFFFFF;\n",
              "    }\n",
              "  </style>\n",
              "\n",
              "      <script>\n",
              "        const buttonEl =\n",
              "          document.querySelector('#df-bd51784f-0635-4485-8484-c68e9d1838f4 button.colab-df-convert');\n",
              "        buttonEl.style.display =\n",
              "          google.colab.kernel.accessAllowed ? 'block' : 'none';\n",
              "\n",
              "        async function convertToInteractive(key) {\n",
              "          const element = document.querySelector('#df-bd51784f-0635-4485-8484-c68e9d1838f4');\n",
              "          const dataTable =\n",
              "            await google.colab.kernel.invokeFunction('convertToInteractive',\n",
              "                                                     [key], {});\n",
              "          if (!dataTable) return;\n",
              "\n",
              "          const docLinkHtml = 'Like what you see? Visit the ' +\n",
              "            '<a target=\"_blank\" href=https://colab.research.google.com/notebooks/data_table.ipynb>data table notebook</a>'\n",
              "            + ' to learn more about interactive tables.';\n",
              "          element.innerHTML = '';\n",
              "          dataTable['output_type'] = 'display_data';\n",
              "          await google.colab.output.renderOutput(dataTable, element);\n",
              "          const docLink = document.createElement('div');\n",
              "          docLink.innerHTML = docLinkHtml;\n",
              "          element.appendChild(docLink);\n",
              "        }\n",
              "      </script>\n",
              "    </div>\n",
              "  </div>\n",
              "  "
            ]
          },
          "metadata": {},
          "execution_count": 33
        }
      ]
    },
    {
      "cell_type": "code",
      "source": [
        "#DATA VISUALIZATION"
      ],
      "metadata": {
        "id": "nK8aqqV-28Yk"
      },
      "execution_count": 34,
      "outputs": []
    },
    {
      "cell_type": "code",
      "source": [
        "df.head()"
      ],
      "metadata": {
        "id": "GkOqnxNe3FmK",
        "outputId": "c847fbe1-d942-4077-fbc1-7bcbe619c70a",
        "colab": {
          "base_uri": "https://localhost:8080/",
          "height": 300
        }
      },
      "execution_count": 35,
      "outputs": [
        {
          "output_type": "execute_result",
          "data": {
            "text/plain": [
              "   Diabetes_012  HighBP  HighChol  CholCheck  BMI    Smoker    Stroke  \\\n",
              "0             0       1         1          1   40  1.000000  0.044756   \n",
              "1             0       0         0          0   25  1.000000  0.044756   \n",
              "2             0       1         1          1   28  0.465661  0.044756   \n",
              "3             0       1         0          1   27  0.465661  0.044756   \n",
              "4             0       1         1          1   24  0.465661  0.044756   \n",
              "\n",
              "   HeartDiseaseorAttack  PhysActivity    Fruits  ...  AnyHealthcare  \\\n",
              "0              0.103216      0.733355  0.612966  ...       1.000000   \n",
              "1              0.103216      1.000000  0.612966  ...       0.946075   \n",
              "2              0.103216      0.733355  1.000000  ...       1.000000   \n",
              "3              0.103216      1.000000  1.000000  ...       1.000000   \n",
              "4              0.103216      1.000000  1.000000  ...       1.000000   \n",
              "\n",
              "   NoDocbcCost  GenHlth   MentHlth   PhysHlth  DiffWalk       Sex  Age  \\\n",
              "0      0.09281        5  18.000000  15.000000  1.000000  0.439231    9   \n",
              "1      1.00000        3   3.505373   4.675178  0.185507  0.439231    7   \n",
              "2      1.00000        5  30.000000  30.000000  1.000000  0.439231    9   \n",
              "3      0.09281        2   3.505373   4.675178  0.185507  0.439231   11   \n",
              "4      0.09281        2   3.000000   4.675178  0.185507  0.439231   11   \n",
              "\n",
              "   Education  Income  \n",
              "0          4       3  \n",
              "1          6       1  \n",
              "2          4       8  \n",
              "3          3       6  \n",
              "4          5       4  \n",
              "\n",
              "[5 rows x 22 columns]"
            ],
            "text/html": [
              "\n",
              "  <div id=\"df-f29567ef-0b5b-480c-b59f-cbfa90b29ce3\">\n",
              "    <div class=\"colab-df-container\">\n",
              "      <div>\n",
              "<style scoped>\n",
              "    .dataframe tbody tr th:only-of-type {\n",
              "        vertical-align: middle;\n",
              "    }\n",
              "\n",
              "    .dataframe tbody tr th {\n",
              "        vertical-align: top;\n",
              "    }\n",
              "\n",
              "    .dataframe thead th {\n",
              "        text-align: right;\n",
              "    }\n",
              "</style>\n",
              "<table border=\"1\" class=\"dataframe\">\n",
              "  <thead>\n",
              "    <tr style=\"text-align: right;\">\n",
              "      <th></th>\n",
              "      <th>Diabetes_012</th>\n",
              "      <th>HighBP</th>\n",
              "      <th>HighChol</th>\n",
              "      <th>CholCheck</th>\n",
              "      <th>BMI</th>\n",
              "      <th>Smoker</th>\n",
              "      <th>Stroke</th>\n",
              "      <th>HeartDiseaseorAttack</th>\n",
              "      <th>PhysActivity</th>\n",
              "      <th>Fruits</th>\n",
              "      <th>...</th>\n",
              "      <th>AnyHealthcare</th>\n",
              "      <th>NoDocbcCost</th>\n",
              "      <th>GenHlth</th>\n",
              "      <th>MentHlth</th>\n",
              "      <th>PhysHlth</th>\n",
              "      <th>DiffWalk</th>\n",
              "      <th>Sex</th>\n",
              "      <th>Age</th>\n",
              "      <th>Education</th>\n",
              "      <th>Income</th>\n",
              "    </tr>\n",
              "  </thead>\n",
              "  <tbody>\n",
              "    <tr>\n",
              "      <th>0</th>\n",
              "      <td>0</td>\n",
              "      <td>1</td>\n",
              "      <td>1</td>\n",
              "      <td>1</td>\n",
              "      <td>40</td>\n",
              "      <td>1.000000</td>\n",
              "      <td>0.044756</td>\n",
              "      <td>0.103216</td>\n",
              "      <td>0.733355</td>\n",
              "      <td>0.612966</td>\n",
              "      <td>...</td>\n",
              "      <td>1.000000</td>\n",
              "      <td>0.09281</td>\n",
              "      <td>5</td>\n",
              "      <td>18.000000</td>\n",
              "      <td>15.000000</td>\n",
              "      <td>1.000000</td>\n",
              "      <td>0.439231</td>\n",
              "      <td>9</td>\n",
              "      <td>4</td>\n",
              "      <td>3</td>\n",
              "    </tr>\n",
              "    <tr>\n",
              "      <th>1</th>\n",
              "      <td>0</td>\n",
              "      <td>0</td>\n",
              "      <td>0</td>\n",
              "      <td>0</td>\n",
              "      <td>25</td>\n",
              "      <td>1.000000</td>\n",
              "      <td>0.044756</td>\n",
              "      <td>0.103216</td>\n",
              "      <td>1.000000</td>\n",
              "      <td>0.612966</td>\n",
              "      <td>...</td>\n",
              "      <td>0.946075</td>\n",
              "      <td>1.00000</td>\n",
              "      <td>3</td>\n",
              "      <td>3.505373</td>\n",
              "      <td>4.675178</td>\n",
              "      <td>0.185507</td>\n",
              "      <td>0.439231</td>\n",
              "      <td>7</td>\n",
              "      <td>6</td>\n",
              "      <td>1</td>\n",
              "    </tr>\n",
              "    <tr>\n",
              "      <th>2</th>\n",
              "      <td>0</td>\n",
              "      <td>1</td>\n",
              "      <td>1</td>\n",
              "      <td>1</td>\n",
              "      <td>28</td>\n",
              "      <td>0.465661</td>\n",
              "      <td>0.044756</td>\n",
              "      <td>0.103216</td>\n",
              "      <td>0.733355</td>\n",
              "      <td>1.000000</td>\n",
              "      <td>...</td>\n",
              "      <td>1.000000</td>\n",
              "      <td>1.00000</td>\n",
              "      <td>5</td>\n",
              "      <td>30.000000</td>\n",
              "      <td>30.000000</td>\n",
              "      <td>1.000000</td>\n",
              "      <td>0.439231</td>\n",
              "      <td>9</td>\n",
              "      <td>4</td>\n",
              "      <td>8</td>\n",
              "    </tr>\n",
              "    <tr>\n",
              "      <th>3</th>\n",
              "      <td>0</td>\n",
              "      <td>1</td>\n",
              "      <td>0</td>\n",
              "      <td>1</td>\n",
              "      <td>27</td>\n",
              "      <td>0.465661</td>\n",
              "      <td>0.044756</td>\n",
              "      <td>0.103216</td>\n",
              "      <td>1.000000</td>\n",
              "      <td>1.000000</td>\n",
              "      <td>...</td>\n",
              "      <td>1.000000</td>\n",
              "      <td>0.09281</td>\n",
              "      <td>2</td>\n",
              "      <td>3.505373</td>\n",
              "      <td>4.675178</td>\n",
              "      <td>0.185507</td>\n",
              "      <td>0.439231</td>\n",
              "      <td>11</td>\n",
              "      <td>3</td>\n",
              "      <td>6</td>\n",
              "    </tr>\n",
              "    <tr>\n",
              "      <th>4</th>\n",
              "      <td>0</td>\n",
              "      <td>1</td>\n",
              "      <td>1</td>\n",
              "      <td>1</td>\n",
              "      <td>24</td>\n",
              "      <td>0.465661</td>\n",
              "      <td>0.044756</td>\n",
              "      <td>0.103216</td>\n",
              "      <td>1.000000</td>\n",
              "      <td>1.000000</td>\n",
              "      <td>...</td>\n",
              "      <td>1.000000</td>\n",
              "      <td>0.09281</td>\n",
              "      <td>2</td>\n",
              "      <td>3.000000</td>\n",
              "      <td>4.675178</td>\n",
              "      <td>0.185507</td>\n",
              "      <td>0.439231</td>\n",
              "      <td>11</td>\n",
              "      <td>5</td>\n",
              "      <td>4</td>\n",
              "    </tr>\n",
              "  </tbody>\n",
              "</table>\n",
              "<p>5 rows × 22 columns</p>\n",
              "</div>\n",
              "      <button class=\"colab-df-convert\" onclick=\"convertToInteractive('df-f29567ef-0b5b-480c-b59f-cbfa90b29ce3')\"\n",
              "              title=\"Convert this dataframe to an interactive table.\"\n",
              "              style=\"display:none;\">\n",
              "        \n",
              "  <svg xmlns=\"http://www.w3.org/2000/svg\" height=\"24px\"viewBox=\"0 0 24 24\"\n",
              "       width=\"24px\">\n",
              "    <path d=\"M0 0h24v24H0V0z\" fill=\"none\"/>\n",
              "    <path d=\"M18.56 5.44l.94 2.06.94-2.06 2.06-.94-2.06-.94-.94-2.06-.94 2.06-2.06.94zm-11 1L8.5 8.5l.94-2.06 2.06-.94-2.06-.94L8.5 2.5l-.94 2.06-2.06.94zm10 10l.94 2.06.94-2.06 2.06-.94-2.06-.94-.94-2.06-.94 2.06-2.06.94z\"/><path d=\"M17.41 7.96l-1.37-1.37c-.4-.4-.92-.59-1.43-.59-.52 0-1.04.2-1.43.59L10.3 9.45l-7.72 7.72c-.78.78-.78 2.05 0 2.83L4 21.41c.39.39.9.59 1.41.59.51 0 1.02-.2 1.41-.59l7.78-7.78 2.81-2.81c.8-.78.8-2.07 0-2.86zM5.41 20L4 18.59l7.72-7.72 1.47 1.35L5.41 20z\"/>\n",
              "  </svg>\n",
              "      </button>\n",
              "      \n",
              "  <style>\n",
              "    .colab-df-container {\n",
              "      display:flex;\n",
              "      flex-wrap:wrap;\n",
              "      gap: 12px;\n",
              "    }\n",
              "\n",
              "    .colab-df-convert {\n",
              "      background-color: #E8F0FE;\n",
              "      border: none;\n",
              "      border-radius: 50%;\n",
              "      cursor: pointer;\n",
              "      display: none;\n",
              "      fill: #1967D2;\n",
              "      height: 32px;\n",
              "      padding: 0 0 0 0;\n",
              "      width: 32px;\n",
              "    }\n",
              "\n",
              "    .colab-df-convert:hover {\n",
              "      background-color: #E2EBFA;\n",
              "      box-shadow: 0px 1px 2px rgba(60, 64, 67, 0.3), 0px 1px 3px 1px rgba(60, 64, 67, 0.15);\n",
              "      fill: #174EA6;\n",
              "    }\n",
              "\n",
              "    [theme=dark] .colab-df-convert {\n",
              "      background-color: #3B4455;\n",
              "      fill: #D2E3FC;\n",
              "    }\n",
              "\n",
              "    [theme=dark] .colab-df-convert:hover {\n",
              "      background-color: #434B5C;\n",
              "      box-shadow: 0px 1px 3px 1px rgba(0, 0, 0, 0.15);\n",
              "      filter: drop-shadow(0px 1px 2px rgba(0, 0, 0, 0.3));\n",
              "      fill: #FFFFFF;\n",
              "    }\n",
              "  </style>\n",
              "\n",
              "      <script>\n",
              "        const buttonEl =\n",
              "          document.querySelector('#df-f29567ef-0b5b-480c-b59f-cbfa90b29ce3 button.colab-df-convert');\n",
              "        buttonEl.style.display =\n",
              "          google.colab.kernel.accessAllowed ? 'block' : 'none';\n",
              "\n",
              "        async function convertToInteractive(key) {\n",
              "          const element = document.querySelector('#df-f29567ef-0b5b-480c-b59f-cbfa90b29ce3');\n",
              "          const dataTable =\n",
              "            await google.colab.kernel.invokeFunction('convertToInteractive',\n",
              "                                                     [key], {});\n",
              "          if (!dataTable) return;\n",
              "\n",
              "          const docLinkHtml = 'Like what you see? Visit the ' +\n",
              "            '<a target=\"_blank\" href=https://colab.research.google.com/notebooks/data_table.ipynb>data table notebook</a>'\n",
              "            + ' to learn more about interactive tables.';\n",
              "          element.innerHTML = '';\n",
              "          dataTable['output_type'] = 'display_data';\n",
              "          await google.colab.output.renderOutput(dataTable, element);\n",
              "          const docLink = document.createElement('div');\n",
              "          docLink.innerHTML = docLinkHtml;\n",
              "          element.appendChild(docLink);\n",
              "        }\n",
              "      </script>\n",
              "    </div>\n",
              "  </div>\n",
              "  "
            ]
          },
          "metadata": {},
          "execution_count": 35
        }
      ]
    },
    {
      "cell_type": "code",
      "source": [
        "cf_matrix=df.corr()"
      ],
      "metadata": {
        "id": "k09wNavXCOrf"
      },
      "execution_count": 36,
      "outputs": []
    },
    {
      "cell_type": "code",
      "source": [
        "f = pl.figure( figsize =(20,20) )\n",
        "sns.heatmap(cf_matrix,annot=True,cmap=\"Set3_r\")\n",
        "pl.show()"
      ],
      "metadata": {
        "id": "fdgKS8y83VR3",
        "outputId": "44fe673a-5cd3-401d-e6b4-e2e240ed1a48",
        "colab": {
          "base_uri": "https://localhost:8080/",
          "height": 1000
        }
      },
      "execution_count": 37,
      "outputs": [
        {
          "output_type": "display_data",
          "data": {
            "text/plain": [
              "<Figure size 1440x1440 with 2 Axes>"
            ],
            "image/png": "[encoded data removed]"
          },
          "metadata": {
            "needs_background": "light"
          }
        }
      ]
    },
    {
      "cell_type": "code",
      "source": [
        "df.hist(figsize=(20,20))\n",
        "pl.show()"
      ],
      "metadata": {
        "id": "KmJGtyeB3o7H",
        "outputId": "a6533e1c-07df-4629-b21a-f468cd04863b",
        "colab": {
          "base_uri": "https://localhost:8080/",
          "height": 1000
        }
      },
      "execution_count": 38,
      "outputs": [
        {
          "output_type": "display_data",
          "data": {
            "text/plain": [
              "<Figure size 1440x1440 with 25 Axes>"
            ],
            "image/png": "[encoded data removed]"
          },
          "metadata": {
            "needs_background": "light"
          }
        }
      ]
    },
    {
      "cell_type": "code",
      "source": [
        "##assigning independent and dependent variables\n",
        "X = df.drop(columns = ['Diabetes_012'])\n",
        "y = df['Diabetes_012']\n",
        "y"
      ],
      "metadata": {
        "colab": {
          "base_uri": "https://localhost:8080/"
        },
        "id": "0is4YnluBAEj",
        "outputId": "3fff3995-f225-4c12-bffc-daa0afec3161"
      },
      "execution_count": 39,
      "outputs": [
        {
          "output_type": "execute_result",
          "data": {
            "text/plain": [
              "0         0\n",
              "1         0\n",
              "2         0\n",
              "3         0\n",
              "4         0\n",
              "         ..\n",
              "253675    0\n",
              "253676    2\n",
              "253677    0\n",
              "253678    0\n",
              "253679    2\n",
              "Name: Diabetes_012, Length: 229781, dtype: int64"
            ]
          },
          "metadata": {},
          "execution_count": 39
        }
      ]
    },
    {
      "cell_type": "code",
      "source": [
        "sns.countplot(df.Diabetes_012, ).set(title=\"Data Imbalance Check\")"
      ],
      "metadata": {
        "colab": {
          "base_uri": "https://localhost:8080/",
          "height": 313
        },
        "id": "UAaniGvERZkj",
        "outputId": "9ab27bb0-0c23-4436-fab3-b908c5733db1"
      },
      "execution_count": 40,
      "outputs": [
        {
          "output_type": "execute_result",
          "data": {
            "text/plain": [
              "[Text(0.5, 1.0, 'Data Imbalance Check')]"
            ]
          },
          "metadata": {},
          "execution_count": 40
        },
        {
          "output_type": "display_data",
          "data": {
            "text/plain": [
              "<Figure size 432x288 with 1 Axes>"
            ],
            "image/png": "[encoded data removed]"
          },
          "metadata": {
            "needs_background": "light"
          }
        }
      ]
    },
    {
      "cell_type": "code",
      "source": [
        "from statsmodels.stats.outliers_influence import variance_inflation_factor\n",
        "from statsmodels.tools.tools import add_constant\n",
        "X = add_constant(df)\n",
        "pd.Series([variance_inflation_factor(X.values, i)\n",
        "           for i in range(X.shape[1])], \n",
        "              index=X.columns)"
      ],
      "metadata": {
        "id": "RG-wutwj39h5",
        "outputId": "5b89b001-def4-46f6-fa53-eda0ac05c05c",
        "colab": {
          "base_uri": "https://localhost:8080/"
        }
      },
      "execution_count": 41,
      "outputs": [
        {
          "output_type": "execute_result",
          "data": {
            "text/plain": [
              "const                   7488.915452\n",
              "Diabetes_012               1.196079\n",
              "HighBP                     1.315906\n",
              "HighChol                   1.167207\n",
              "CholCheck                  1.036036\n",
              "BMI                        1.143793\n",
              "Smoker                     1.076358\n",
              "Stroke                     1.077836\n",
              "HeartDiseaseorAttack       1.170137\n",
              "PhysActivity               1.131693\n",
              "Fruits                     1.098020\n",
              "Veggies                    1.098243\n",
              "HvyAlcoholConsump          1.027626\n",
              "AnyHealthcare              1.109741\n",
              "NoDocbcCost                1.133656\n",
              "GenHlth                    1.698035\n",
              "MentHlth                   1.198509\n",
              "PhysHlth                   1.509555\n",
              "DiffWalk                   1.498060\n",
              "Sex                        1.074171\n",
              "Age                        1.348208\n",
              "Education                  1.271103\n",
              "Income                     1.433415\n",
              "dtype: float64"
            ]
          },
          "metadata": {},
          "execution_count": 41
        }
      ]
    },
    {
      "cell_type": "code",
      "source": [
        "df"
      ],
      "metadata": {
        "id": "ZcO3vPps4OBZ",
        "outputId": "70407338-058c-48e4-e831-116d0bb1d902",
        "colab": {
          "base_uri": "https://localhost:8080/",
          "height": 488
        }
      },
      "execution_count": 42,
      "outputs": [
        {
          "output_type": "execute_result",
          "data": {
            "text/plain": [
              "        Diabetes_012  HighBP  HighChol  CholCheck  BMI    Smoker    Stroke  \\\n",
              "0                  0       1         1          1   40  1.000000  0.044756   \n",
              "1                  0       0         0          0   25  1.000000  0.044756   \n",
              "2                  0       1         1          1   28  0.465661  0.044756   \n",
              "3                  0       1         0          1   27  0.465661  0.044756   \n",
              "4                  0       1         1          1   24  0.465661  0.044756   \n",
              "...              ...     ...       ...        ...  ...       ...       ...   \n",
              "253675             0       1         1          1   45  0.465661  0.044756   \n",
              "253676             2       1         1          1   18  0.465661  0.044756   \n",
              "253677             0       0         0          1   28  0.465661  0.044756   \n",
              "253678             0       1         0          1   23  0.465661  0.044756   \n",
              "253679             2       1         1          1   25  0.465661  0.044756   \n",
              "\n",
              "        HeartDiseaseorAttack  PhysActivity    Fruits  ...  AnyHealthcare  \\\n",
              "0                   0.103216      0.733355  0.612966  ...       1.000000   \n",
              "1                   0.103216      1.000000  0.612966  ...       0.946075   \n",
              "2                   0.103216      0.733355  1.000000  ...       1.000000   \n",
              "3                   0.103216      1.000000  1.000000  ...       1.000000   \n",
              "4                   0.103216      1.000000  1.000000  ...       1.000000   \n",
              "...                      ...           ...       ...  ...            ...   \n",
              "253675              0.103216      0.733355  1.000000  ...       1.000000   \n",
              "253676              0.103216      0.733355  0.612966  ...       1.000000   \n",
              "253677              0.103216      1.000000  1.000000  ...       1.000000   \n",
              "253678              0.103216      0.733355  1.000000  ...       1.000000   \n",
              "253679              1.000000      1.000000  1.000000  ...       1.000000   \n",
              "\n",
              "        NoDocbcCost  GenHlth   MentHlth   PhysHlth  DiffWalk       Sex  Age  \\\n",
              "0           0.09281        5  18.000000  15.000000  1.000000  0.439231    9   \n",
              "1           1.00000        3   3.505373   4.675178  0.185507  0.439231    7   \n",
              "2           1.00000        5  30.000000  30.000000  1.000000  0.439231    9   \n",
              "3           0.09281        2   3.505373   4.675178  0.185507  0.439231   11   \n",
              "4           0.09281        2   3.000000   4.675178  0.185507  0.439231   11   \n",
              "...             ...      ...        ...        ...       ...       ...  ...   \n",
              "253675      0.09281        3   3.505373   5.000000  0.185507  1.000000    5   \n",
              "253676      0.09281        4   3.505373   4.675178  1.000000  0.439231   11   \n",
              "253677      0.09281        1   3.505373   4.675178  0.185507  0.439231    2   \n",
              "253678      0.09281        3   3.505373   4.675178  0.185507  1.000000    7   \n",
              "253679      0.09281        2   3.505373   4.675178  0.185507  0.439231    9   \n",
              "\n",
              "        Education  Income  \n",
              "0               4       3  \n",
              "1               6       1  \n",
              "2               4       8  \n",
              "3               3       6  \n",
              "4               5       4  \n",
              "...           ...     ...  \n",
              "253675          6       7  \n",
              "253676          2       4  \n",
              "253677          5       2  \n",
              "253678          5       1  \n",
              "253679          6       2  \n",
              "\n",
              "[229781 rows x 22 columns]"
            ],
            "text/html": [
              "\n",
              "  <div id=\"df-c17e42b3-5d4b-455a-b100-21bea98f8b5a\">\n",
              "    <div class=\"colab-df-container\">\n",
              "      <div>\n",
              "<style scoped>\n",
              "    .dataframe tbody tr th:only-of-type {\n",
              "        vertical-align: middle;\n",
              "    }\n",
              "\n",
              "    .dataframe tbody tr th {\n",
              "        vertical-align: top;\n",
              "    }\n",
              "\n",
              "    .dataframe thead th {\n",
              "        text-align: right;\n",
              "    }\n",
              "</style>\n",
              "<table border=\"1\" class=\"dataframe\">\n",
              "  <thead>\n",
              "    <tr style=\"text-align: right;\">\n",
              "      <th></th>\n",
              "      <th>Diabetes_012</th>\n",
              "      <th>HighBP</th>\n",
              "      <th>HighChol</th>\n",
              "      <th>CholCheck</th>\n",
              "      <th>BMI</th>\n",
              "      <th>Smoker</th>\n",
              "      <th>Stroke</th>\n",
              "      <th>HeartDiseaseorAttack</th>\n",
              "      <th>PhysActivity</th>\n",
              "      <th>Fruits</th>\n",
              "      <th>...</th>\n",
              "      <th>AnyHealthcare</th>\n",
              "      <th>NoDocbcCost</th>\n",
              "      <th>GenHlth</th>\n",
              "      <th>MentHlth</th>\n",
              "      <th>PhysHlth</th>\n",
              "      <th>DiffWalk</th>\n",
              "      <th>Sex</th>\n",
              "      <th>Age</th>\n",
              "      <th>Education</th>\n",
              "      <th>Income</th>\n",
              "    </tr>\n",
              "  </thead>\n",
              "  <tbody>\n",
              "    <tr>\n",
              "      <th>0</th>\n",
              "      <td>0</td>\n",
              "      <td>1</td>\n",
              "      <td>1</td>\n",
              "      <td>1</td>\n",
              "      <td>40</td>\n",
              "      <td>1.000000</td>\n",
              "      <td>0.044756</td>\n",
              "      <td>0.103216</td>\n",
              "      <td>0.733355</td>\n",
              "      <td>0.612966</td>\n",
              "      <td>...</td>\n",
              "      <td>1.000000</td>\n",
              "      <td>0.09281</td>\n",
              "      <td>5</td>\n",
              "      <td>18.000000</td>\n",
              "      <td>15.000000</td>\n",
              "      <td>1.000000</td>\n",
              "      <td>0.439231</td>\n",
              "      <td>9</td>\n",
              "      <td>4</td>\n",
              "      <td>3</td>\n",
              "    </tr>\n",
              "    <tr>\n",
              "      <th>1</th>\n",
              "      <td>0</td>\n",
              "      <td>0</td>\n",
              "      <td>0</td>\n",
              "      <td>0</td>\n",
              "      <td>25</td>\n",
              "      <td>1.000000</td>\n",
              "      <td>0.044756</td>\n",
              "      <td>0.103216</td>\n",
              "      <td>1.000000</td>\n",
              "      <td>0.612966</td>\n",
              "      <td>...</td>\n",
              "      <td>0.946075</td>\n",
              "      <td>1.00000</td>\n",
              "      <td>3</td>\n",
              "      <td>3.505373</td>\n",
              "      <td>4.675178</td>\n",
              "      <td>0.185507</td>\n",
              "      <td>0.439231</td>\n",
              "      <td>7</td>\n",
              "      <td>6</td>\n",
              "      <td>1</td>\n",
              "    </tr>\n",
              "    <tr>\n",
              "      <th>2</th>\n",
              "      <td>0</td>\n",
              "      <td>1</td>\n",
              "      <td>1</td>\n",
              "      <td>1</td>\n",
              "      <td>28</td>\n",
              "      <td>0.465661</td>\n",
              "      <td>0.044756</td>\n",
              "      <td>0.103216</td>\n",
              "      <td>0.733355</td>\n",
              "      <td>1.000000</td>\n",
              "      <td>...</td>\n",
              "      <td>1.000000</td>\n",
              "      <td>1.00000</td>\n",
              "      <td>5</td>\n",
              "      <td>30.000000</td>\n",
              "      <td>30.000000</td>\n",
              "      <td>1.000000</td>\n",
              "      <td>0.439231</td>\n",
              "      <td>9</td>\n",
              "      <td>4</td>\n",
              "      <td>8</td>\n",
              "    </tr>\n",
              "    <tr>\n",
              "      <th>3</th>\n",
              "      <td>0</td>\n",
              "      <td>1</td>\n",
              "      <td>0</td>\n",
              "      <td>1</td>\n",
              "      <td>27</td>\n",
              "      <td>0.465661</td>\n",
              "      <td>0.044756</td>\n",
              "      <td>0.103216</td>\n",
              "      <td>1.000000</td>\n",
              "      <td>1.000000</td>\n",
              "      <td>...</td>\n",
              "      <td>1.000000</td>\n",
              "      <td>0.09281</td>\n",
              "      <td>2</td>\n",
              "      <td>3.505373</td>\n",
              "      <td>4.675178</td>\n",
              "      <td>0.185507</td>\n",
              "      <td>0.439231</td>\n",
              "      <td>11</td>\n",
              "      <td>3</td>\n",
              "      <td>6</td>\n",
              "    </tr>\n",
              "    <tr>\n",
              "      <th>4</th>\n",
              "      <td>0</td>\n",
              "      <td>1</td>\n",
              "      <td>1</td>\n",
              "      <td>1</td>\n",
              "      <td>24</td>\n",
              "      <td>0.465661</td>\n",
              "      <td>0.044756</td>\n",
              "      <td>0.103216</td>\n",
              "      <td>1.000000</td>\n",
              "      <td>1.000000</td>\n",
              "      <td>...</td>\n",
              "      <td>1.000000</td>\n",
              "      <td>0.09281</td>\n",
              "      <td>2</td>\n",
              "      <td>3.000000</td>\n",
              "      <td>4.675178</td>\n",
              "      <td>0.185507</td>\n",
              "      <td>0.439231</td>\n",
              "      <td>11</td>\n",
              "      <td>5</td>\n",
              "      <td>4</td>\n",
              "    </tr>\n",
              "    <tr>\n",
              "      <th>...</th>\n",
              "      <td>...</td>\n",
              "      <td>...</td>\n",
              "      <td>...</td>\n",
              "      <td>...</td>\n",
              "      <td>...</td>\n",
              "      <td>...</td>\n",
              "      <td>...</td>\n",
              "      <td>...</td>\n",
              "      <td>...</td>\n",
              "      <td>...</td>\n",
              "      <td>...</td>\n",
              "      <td>...</td>\n",
              "      <td>...</td>\n",
              "      <td>...</td>\n",
              "      <td>...</td>\n",
              "      <td>...</td>\n",
              "      <td>...</td>\n",
              "      <td>...</td>\n",
              "      <td>...</td>\n",
              "      <td>...</td>\n",
              "      <td>...</td>\n",
              "    </tr>\n",
              "    <tr>\n",
              "      <th>253675</th>\n",
              "      <td>0</td>\n",
              "      <td>1</td>\n",
              "      <td>1</td>\n",
              "      <td>1</td>\n",
              "      <td>45</td>\n",
              "      <td>0.465661</td>\n",
              "      <td>0.044756</td>\n",
              "      <td>0.103216</td>\n",
              "      <td>0.733355</td>\n",
              "      <td>1.000000</td>\n",
              "      <td>...</td>\n",
              "      <td>1.000000</td>\n",
              "      <td>0.09281</td>\n",
              "      <td>3</td>\n",
              "      <td>3.505373</td>\n",
              "      <td>5.000000</td>\n",
              "      <td>0.185507</td>\n",
              "      <td>1.000000</td>\n",
              "      <td>5</td>\n",
              "      <td>6</td>\n",
              "      <td>7</td>\n",
              "    </tr>\n",
              "    <tr>\n",
              "      <th>253676</th>\n",
              "      <td>2</td>\n",
              "      <td>1</td>\n",
              "      <td>1</td>\n",
              "      <td>1</td>\n",
              "      <td>18</td>\n",
              "      <td>0.465661</td>\n",
              "      <td>0.044756</td>\n",
              "      <td>0.103216</td>\n",
              "      <td>0.733355</td>\n",
              "      <td>0.612966</td>\n",
              "      <td>...</td>\n",
              "      <td>1.000000</td>\n",
              "      <td>0.09281</td>\n",
              "      <td>4</td>\n",
              "      <td>3.505373</td>\n",
              "      <td>4.675178</td>\n",
              "      <td>1.000000</td>\n",
              "      <td>0.439231</td>\n",
              "      <td>11</td>\n",
              "      <td>2</td>\n",
              "      <td>4</td>\n",
              "    </tr>\n",
              "    <tr>\n",
              "      <th>253677</th>\n",
              "      <td>0</td>\n",
              "      <td>0</td>\n",
              "      <td>0</td>\n",
              "      <td>1</td>\n",
              "      <td>28</td>\n",
              "      <td>0.465661</td>\n",
              "      <td>0.044756</td>\n",
              "      <td>0.103216</td>\n",
              "      <td>1.000000</td>\n",
              "      <td>1.000000</td>\n",
              "      <td>...</td>\n",
              "      <td>1.000000</td>\n",
              "      <td>0.09281</td>\n",
              "      <td>1</td>\n",
              "      <td>3.505373</td>\n",
              "      <td>4.675178</td>\n",
              "      <td>0.185507</td>\n",
              "      <td>0.439231</td>\n",
              "      <td>2</td>\n",
              "      <td>5</td>\n",
              "      <td>2</td>\n",
              "    </tr>\n",
              "    <tr>\n",
              "      <th>253678</th>\n",
              "      <td>0</td>\n",
              "      <td>1</td>\n",
              "      <td>0</td>\n",
              "      <td>1</td>\n",
              "      <td>23</td>\n",
              "      <td>0.465661</td>\n",
              "      <td>0.044756</td>\n",
              "      <td>0.103216</td>\n",
              "      <td>0.733355</td>\n",
              "      <td>1.000000</td>\n",
              "      <td>...</td>\n",
              "      <td>1.000000</td>\n",
              "      <td>0.09281</td>\n",
              "      <td>3</td>\n",
              "      <td>3.505373</td>\n",
              "      <td>4.675178</td>\n",
              "      <td>0.185507</td>\n",
              "      <td>1.000000</td>\n",
              "      <td>7</td>\n",
              "      <td>5</td>\n",
              "      <td>1</td>\n",
              "    </tr>\n",
              "    <tr>\n",
              "      <th>253679</th>\n",
              "      <td>2</td>\n",
              "      <td>1</td>\n",
              "      <td>1</td>\n",
              "      <td>1</td>\n",
              "      <td>25</td>\n",
              "      <td>0.465661</td>\n",
              "      <td>0.044756</td>\n",
              "      <td>1.000000</td>\n",
              "      <td>1.000000</td>\n",
              "      <td>1.000000</td>\n",
              "      <td>...</td>\n",
              "      <td>1.000000</td>\n",
              "      <td>0.09281</td>\n",
              "      <td>2</td>\n",
              "      <td>3.505373</td>\n",
              "      <td>4.675178</td>\n",
              "      <td>0.185507</td>\n",
              "      <td>0.439231</td>\n",
              "      <td>9</td>\n",
              "      <td>6</td>\n",
              "      <td>2</td>\n",
              "    </tr>\n",
              "  </tbody>\n",
              "</table>\n",
              "<p>229781 rows × 22 columns</p>\n",
              "</div>\n",
              "      <button class=\"colab-df-convert\" onclick=\"convertToInteractive('df-c17e42b3-5d4b-455a-b100-21bea98f8b5a')\"\n",
              "              title=\"Convert this dataframe to an interactive table.\"\n",
              "              style=\"display:none;\">\n",
              "        \n",
              "  <svg xmlns=\"http://www.w3.org/2000/svg\" height=\"24px\"viewBox=\"0 0 24 24\"\n",
              "       width=\"24px\">\n",
              "    <path d=\"M0 0h24v24H0V0z\" fill=\"none\"/>\n",
              "    <path d=\"M18.56 5.44l.94 2.06.94-2.06 2.06-.94-2.06-.94-.94-2.06-.94 2.06-2.06.94zm-11 1L8.5 8.5l.94-2.06 2.06-.94-2.06-.94L8.5 2.5l-.94 2.06-2.06.94zm10 10l.94 2.06.94-2.06 2.06-.94-2.06-.94-.94-2.06-.94 2.06-2.06.94z\"/><path d=\"M17.41 7.96l-1.37-1.37c-.4-.4-.92-.59-1.43-.59-.52 0-1.04.2-1.43.59L10.3 9.45l-7.72 7.72c-.78.78-.78 2.05 0 2.83L4 21.41c.39.39.9.59 1.41.59.51 0 1.02-.2 1.41-.59l7.78-7.78 2.81-2.81c.8-.78.8-2.07 0-2.86zM5.41 20L4 18.59l7.72-7.72 1.47 1.35L5.41 20z\"/>\n",
              "  </svg>\n",
              "      </button>\n",
              "      \n",
              "  <style>\n",
              "    .colab-df-container {\n",
              "      display:flex;\n",
              "      flex-wrap:wrap;\n",
              "      gap: 12px;\n",
              "    }\n",
              "\n",
              "    .colab-df-convert {\n",
              "      background-color: #E8F0FE;\n",
              "      border: none;\n",
              "      border-radius: 50%;\n",
              "      cursor: pointer;\n",
              "      display: none;\n",
              "      fill: #1967D2;\n",
              "      height: 32px;\n",
              "      padding: 0 0 0 0;\n",
              "      width: 32px;\n",
              "    }\n",
              "\n",
              "    .colab-df-convert:hover {\n",
              "      background-color: #E2EBFA;\n",
              "      box-shadow: 0px 1px 2px rgba(60, 64, 67, 0.3), 0px 1px 3px 1px rgba(60, 64, 67, 0.15);\n",
              "      fill: #174EA6;\n",
              "    }\n",
              "\n",
              "    [theme=dark] .colab-df-convert {\n",
              "      background-color: #3B4455;\n",
              "      fill: #D2E3FC;\n",
              "    }\n",
              "\n",
              "    [theme=dark] .colab-df-convert:hover {\n",
              "      background-color: #434B5C;\n",
              "      box-shadow: 0px 1px 3px 1px rgba(0, 0, 0, 0.15);\n",
              "      filter: drop-shadow(0px 1px 2px rgba(0, 0, 0, 0.3));\n",
              "      fill: #FFFFFF;\n",
              "    }\n",
              "  </style>\n",
              "\n",
              "      <script>\n",
              "        const buttonEl =\n",
              "          document.querySelector('#df-c17e42b3-5d4b-455a-b100-21bea98f8b5a button.colab-df-convert');\n",
              "        buttonEl.style.display =\n",
              "          google.colab.kernel.accessAllowed ? 'block' : 'none';\n",
              "\n",
              "        async function convertToInteractive(key) {\n",
              "          const element = document.querySelector('#df-c17e42b3-5d4b-455a-b100-21bea98f8b5a');\n",
              "          const dataTable =\n",
              "            await google.colab.kernel.invokeFunction('convertToInteractive',\n",
              "                                                     [key], {});\n",
              "          if (!dataTable) return;\n",
              "\n",
              "          const docLinkHtml = 'Like what you see? Visit the ' +\n",
              "            '<a target=\"_blank\" href=https://colab.research.google.com/notebooks/data_table.ipynb>data table notebook</a>'\n",
              "            + ' to learn more about interactive tables.';\n",
              "          element.innerHTML = '';\n",
              "          dataTable['output_type'] = 'display_data';\n",
              "          await google.colab.output.renderOutput(dataTable, element);\n",
              "          const docLink = document.createElement('div');\n",
              "          docLink.innerHTML = docLinkHtml;\n",
              "          element.appendChild(docLink);\n",
              "        }\n",
              "      </script>\n",
              "    </div>\n",
              "  </div>\n",
              "  "
            ]
          },
          "metadata": {},
          "execution_count": 42
        }
      ]
    },
    {
      "cell_type": "code",
      "source": [
        "import pandas as pd\n",
        "from imblearn.over_sampling import SMOTE\n",
        "\n",
        "# Load the dataset\n",
        "df = pd.read_csv('/content/diabeties.csv')\n",
        "\n",
        "# Separate the features and target variable\n",
        "X = df.drop('Diabetes_012', axis=1)\n",
        "y = df['Diabetes_012']\n",
        "\n",
        "# Apply SMOTE to oversample the minority class\n",
        "smote = SMOTE()\n",
        "X_resampled, y_resampled = smote.fit_resample(X, y)\n",
        "\n",
        "# Print the shape of the resampled dataset\n",
        "print('Original dataset shape:', X.shape, y.shape)\n",
        "print('Resampled dataset shape:', X_resampled.shape, y_resampled.shape)\n"
      ],
      "metadata": {
        "colab": {
          "base_uri": "https://localhost:8080/"
        },
        "id": "8UpEsjxBRU4I",
        "outputId": "906c60df-ac20-49f1-d460-95c3ed1c1998"
      },
      "execution_count": 43,
      "outputs": [
        {
          "output_type": "stream",
          "name": "stdout",
          "text": [
            "Original dataset shape: (253680, 21) (253680,)\n",
            "Resampled dataset shape: (641109, 21) (641109,)\n"
          ]
        }
      ]
    },
    {
      "cell_type": "code",
      "source": [
        "# Store the balanced dataset in a new dataframe\n",
        "data_balanced = pd.concat([pd.DataFrame(X_resampled), pd.DataFrame(y_resampled)], axis=1)\n",
        "data_balanced.to_csv(\"diabetesnew.csv\", index=False)"
      ],
      "metadata": {
        "id": "ijZnTa1wS2HI"
      },
      "execution_count": 44,
      "outputs": []
    },
    {
      "cell_type": "code",
      "source": [
        "newdf = pd.read_csv(\"diabetesnew.csv\")\n",
        "newdf"
      ],
      "metadata": {
        "colab": {
          "base_uri": "https://localhost:8080/",
          "height": 488
        },
        "id": "08CAKQbtTH_V",
        "outputId": "e62356eb-76ce-46f6-eba6-5798990a1a7f"
      },
      "execution_count": 45,
      "outputs": [
        {
          "output_type": "execute_result",
          "data": {
            "text/plain": [
              "        HighBP  HighChol  CholCheck  BMI  Smoker  Stroke  \\\n",
              "0            1         1          1   40       1       0   \n",
              "1            0         0          0   25       1       0   \n",
              "2            1         1          1   28       0       0   \n",
              "3            1         0          1   27       0       0   \n",
              "4            1         1          1   24       0       0   \n",
              "...        ...       ...        ...  ...     ...     ...   \n",
              "641104       0         1          1   25       0       0   \n",
              "641105       0         0          1   29       0       0   \n",
              "641106       1         1          1   33       0       0   \n",
              "641107       1         1          1   27       0       0   \n",
              "641108       0         0          1   28       0       0   \n",
              "\n",
              "        HeartDiseaseorAttack  PhysActivity  Fruits  Veggies  ...  NoDocbcCost  \\\n",
              "0                          0             0       0        1  ...            0   \n",
              "1                          0             1       0        0  ...            1   \n",
              "2                          0             0       1        0  ...            1   \n",
              "3                          0             1       1        1  ...            0   \n",
              "4                          0             1       1        1  ...            0   \n",
              "...                      ...           ...     ...      ...  ...          ...   \n",
              "641104                     0             1       0        1  ...            0   \n",
              "641105                     0             1       1        1  ...            0   \n",
              "641106                     0             0       1        0  ...            0   \n",
              "641107                     0             0       0        0  ...            0   \n",
              "641108                     0             0       0        0  ...            0   \n",
              "\n",
              "        GenHlth  MentHlth  PhysHlth  DiffWalk  Sex  Age  Education  Income  \\\n",
              "0             5        18        15         1    0    9          4       3   \n",
              "1             3         0         0         0    0    7          6       1   \n",
              "2             5        30        30         1    0    9          4       8   \n",
              "3             2         0         0         0    0   11          3       6   \n",
              "4             2         3         0         0    0   11          5       4   \n",
              "...         ...       ...       ...       ...  ...  ...        ...     ...   \n",
              "641104        2         2         0         0    0   10          5       6   \n",
              "641105        3         2         0         0    0    9          5       7   \n",
              "641106        4         0        10         1    0   10          4       4   \n",
              "641107        3         3         0         0    0   10          5       4   \n",
              "641108        3         0        14         1    1   10          4       6   \n",
              "\n",
              "        Diabetes_012  \n",
              "0                  0  \n",
              "1                  0  \n",
              "2                  0  \n",
              "3                  0  \n",
              "4                  0  \n",
              "...              ...  \n",
              "641104             2  \n",
              "641105             2  \n",
              "641106             2  \n",
              "641107             2  \n",
              "641108             2  \n",
              "\n",
              "[641109 rows x 22 columns]"
            ],
            "text/html": [
              "\n",
              "  <div id=\"df-0fbbf7ff-8fae-425a-9188-fd55daebf835\">\n",
              "    <div class=\"colab-df-container\">\n",
              "      <div>\n",
              "<style scoped>\n",
              "    .dataframe tbody tr th:only-of-type {\n",
              "        vertical-align: middle;\n",
              "    }\n",
              "\n",
              "    .dataframe tbody tr th {\n",
              "        vertical-align: top;\n",
              "    }\n",
              "\n",
              "    .dataframe thead th {\n",
              "        text-align: right;\n",
              "    }\n",
              "</style>\n",
              "<table border=\"1\" class=\"dataframe\">\n",
              "  <thead>\n",
              "    <tr style=\"text-align: right;\">\n",
              "      <th></th>\n",
              "      <th>HighBP</th>\n",
              "      <th>HighChol</th>\n",
              "      <th>CholCheck</th>\n",
              "      <th>BMI</th>\n",
              "      <th>Smoker</th>\n",
              "      <th>Stroke</th>\n",
              "      <th>HeartDiseaseorAttack</th>\n",
              "      <th>PhysActivity</th>\n",
              "      <th>Fruits</th>\n",
              "      <th>Veggies</th>\n",
              "      <th>...</th>\n",
              "      <th>NoDocbcCost</th>\n",
              "      <th>GenHlth</th>\n",
              "      <th>MentHlth</th>\n",
              "      <th>PhysHlth</th>\n",
              "      <th>DiffWalk</th>\n",
              "      <th>Sex</th>\n",
              "      <th>Age</th>\n",
              "      <th>Education</th>\n",
              "      <th>Income</th>\n",
              "      <th>Diabetes_012</th>\n",
              "    </tr>\n",
              "  </thead>\n",
              "  <tbody>\n",
              "    <tr>\n",
              "      <th>0</th>\n",
              "      <td>1</td>\n",
              "      <td>1</td>\n",
              "      <td>1</td>\n",
              "      <td>40</td>\n",
              "      <td>1</td>\n",
              "      <td>0</td>\n",
              "      <td>0</td>\n",
              "      <td>0</td>\n",
              "      <td>0</td>\n",
              "      <td>1</td>\n",
              "      <td>...</td>\n",
              "      <td>0</td>\n",
              "      <td>5</td>\n",
              "      <td>18</td>\n",
              "      <td>15</td>\n",
              "      <td>1</td>\n",
              "      <td>0</td>\n",
              "      <td>9</td>\n",
              "      <td>4</td>\n",
              "      <td>3</td>\n",
              "      <td>0</td>\n",
              "    </tr>\n",
              "    <tr>\n",
              "      <th>1</th>\n",
              "      <td>0</td>\n",
              "      <td>0</td>\n",
              "      <td>0</td>\n",
              "      <td>25</td>\n",
              "      <td>1</td>\n",
              "      <td>0</td>\n",
              "      <td>0</td>\n",
              "      <td>1</td>\n",
              "      <td>0</td>\n",
              "      <td>0</td>\n",
              "      <td>...</td>\n",
              "      <td>1</td>\n",
              "      <td>3</td>\n",
              "      <td>0</td>\n",
              "      <td>0</td>\n",
              "      <td>0</td>\n",
              "      <td>0</td>\n",
              "      <td>7</td>\n",
              "      <td>6</td>\n",
              "      <td>1</td>\n",
              "      <td>0</td>\n",
              "    </tr>\n",
              "    <tr>\n",
              "      <th>2</th>\n",
              "      <td>1</td>\n",
              "      <td>1</td>\n",
              "      <td>1</td>\n",
              "      <td>28</td>\n",
              "      <td>0</td>\n",
              "      <td>0</td>\n",
              "      <td>0</td>\n",
              "      <td>0</td>\n",
              "      <td>1</td>\n",
              "      <td>0</td>\n",
              "      <td>...</td>\n",
              "      <td>1</td>\n",
              "      <td>5</td>\n",
              "      <td>30</td>\n",
              "      <td>30</td>\n",
              "      <td>1</td>\n",
              "      <td>0</td>\n",
              "      <td>9</td>\n",
              "      <td>4</td>\n",
              "      <td>8</td>\n",
              "      <td>0</td>\n",
              "    </tr>\n",
              "    <tr>\n",
              "      <th>3</th>\n",
              "      <td>1</td>\n",
              "      <td>0</td>\n",
              "      <td>1</td>\n",
              "      <td>27</td>\n",
              "      <td>0</td>\n",
              "      <td>0</td>\n",
              "      <td>0</td>\n",
              "      <td>1</td>\n",
              "      <td>1</td>\n",
              "      <td>1</td>\n",
              "      <td>...</td>\n",
              "      <td>0</td>\n",
              "      <td>2</td>\n",
              "      <td>0</td>\n",
              "      <td>0</td>\n",
              "      <td>0</td>\n",
              "      <td>0</td>\n",
              "      <td>11</td>\n",
              "      <td>3</td>\n",
              "      <td>6</td>\n",
              "      <td>0</td>\n",
              "    </tr>\n",
              "    <tr>\n",
              "      <th>4</th>\n",
              "      <td>1</td>\n",
              "      <td>1</td>\n",
              "      <td>1</td>\n",
              "      <td>24</td>\n",
              "      <td>0</td>\n",
              "      <td>0</td>\n",
              "      <td>0</td>\n",
              "      <td>1</td>\n",
              "      <td>1</td>\n",
              "      <td>1</td>\n",
              "      <td>...</td>\n",
              "      <td>0</td>\n",
              "      <td>2</td>\n",
              "      <td>3</td>\n",
              "      <td>0</td>\n",
              "      <td>0</td>\n",
              "      <td>0</td>\n",
              "      <td>11</td>\n",
              "      <td>5</td>\n",
              "      <td>4</td>\n",
              "      <td>0</td>\n",
              "    </tr>\n",
              "    <tr>\n",
              "      <th>...</th>\n",
              "      <td>...</td>\n",
              "      <td>...</td>\n",
              "      <td>...</td>\n",
              "      <td>...</td>\n",
              "      <td>...</td>\n",
              "      <td>...</td>\n",
              "      <td>...</td>\n",
              "      <td>...</td>\n",
              "      <td>...</td>\n",
              "      <td>...</td>\n",
              "      <td>...</td>\n",
              "      <td>...</td>\n",
              "      <td>...</td>\n",
              "      <td>...</td>\n",
              "      <td>...</td>\n",
              "      <td>...</td>\n",
              "      <td>...</td>\n",
              "      <td>...</td>\n",
              "      <td>...</td>\n",
              "      <td>...</td>\n",
              "      <td>...</td>\n",
              "    </tr>\n",
              "    <tr>\n",
              "      <th>641104</th>\n",
              "      <td>0</td>\n",
              "      <td>1</td>\n",
              "      <td>1</td>\n",
              "      <td>25</td>\n",
              "      <td>0</td>\n",
              "      <td>0</td>\n",
              "      <td>0</td>\n",
              "      <td>1</td>\n",
              "      <td>0</td>\n",
              "      <td>1</td>\n",
              "      <td>...</td>\n",
              "      <td>0</td>\n",
              "      <td>2</td>\n",
              "      <td>2</td>\n",
              "      <td>0</td>\n",
              "      <td>0</td>\n",
              "      <td>0</td>\n",
              "      <td>10</td>\n",
              "      <td>5</td>\n",
              "      <td>6</td>\n",
              "      <td>2</td>\n",
              "    </tr>\n",
              "    <tr>\n",
              "      <th>641105</th>\n",
              "      <td>0</td>\n",
              "      <td>0</td>\n",
              "      <td>1</td>\n",
              "      <td>29</td>\n",
              "      <td>0</td>\n",
              "      <td>0</td>\n",
              "      <td>0</td>\n",
              "      <td>1</td>\n",
              "      <td>1</td>\n",
              "      <td>1</td>\n",
              "      <td>...</td>\n",
              "      <td>0</td>\n",
              "      <td>3</td>\n",
              "      <td>2</td>\n",
              "      <td>0</td>\n",
              "      <td>0</td>\n",
              "      <td>0</td>\n",
              "      <td>9</td>\n",
              "      <td>5</td>\n",
              "      <td>7</td>\n",
              "      <td>2</td>\n",
              "    </tr>\n",
              "    <tr>\n",
              "      <th>641106</th>\n",
              "      <td>1</td>\n",
              "      <td>1</td>\n",
              "      <td>1</td>\n",
              "      <td>33</td>\n",
              "      <td>0</td>\n",
              "      <td>0</td>\n",
              "      <td>0</td>\n",
              "      <td>0</td>\n",
              "      <td>1</td>\n",
              "      <td>0</td>\n",
              "      <td>...</td>\n",
              "      <td>0</td>\n",
              "      <td>4</td>\n",
              "      <td>0</td>\n",
              "      <td>10</td>\n",
              "      <td>1</td>\n",
              "      <td>0</td>\n",
              "      <td>10</td>\n",
              "      <td>4</td>\n",
              "      <td>4</td>\n",
              "      <td>2</td>\n",
              "    </tr>\n",
              "    <tr>\n",
              "      <th>641107</th>\n",
              "      <td>1</td>\n",
              "      <td>1</td>\n",
              "      <td>1</td>\n",
              "      <td>27</td>\n",
              "      <td>0</td>\n",
              "      <td>0</td>\n",
              "      <td>0</td>\n",
              "      <td>0</td>\n",
              "      <td>0</td>\n",
              "      <td>0</td>\n",
              "      <td>...</td>\n",
              "      <td>0</td>\n",
              "      <td>3</td>\n",
              "      <td>3</td>\n",
              "      <td>0</td>\n",
              "      <td>0</td>\n",
              "      <td>0</td>\n",
              "      <td>10</td>\n",
              "      <td>5</td>\n",
              "      <td>4</td>\n",
              "      <td>2</td>\n",
              "    </tr>\n",
              "    <tr>\n",
              "      <th>641108</th>\n",
              "      <td>0</td>\n",
              "      <td>0</td>\n",
              "      <td>1</td>\n",
              "      <td>28</td>\n",
              "      <td>0</td>\n",
              "      <td>0</td>\n",
              "      <td>0</td>\n",
              "      <td>0</td>\n",
              "      <td>0</td>\n",
              "      <td>0</td>\n",
              "      <td>...</td>\n",
              "      <td>0</td>\n",
              "      <td>3</td>\n",
              "      <td>0</td>\n",
              "      <td>14</td>\n",
              "      <td>1</td>\n",
              "      <td>1</td>\n",
              "      <td>10</td>\n",
              "      <td>4</td>\n",
              "      <td>6</td>\n",
              "      <td>2</td>\n",
              "    </tr>\n",
              "  </tbody>\n",
              "</table>\n",
              "<p>641109 rows × 22 columns</p>\n",
              "</div>\n",
              "      <button class=\"colab-df-convert\" onclick=\"convertToInteractive('df-0fbbf7ff-8fae-425a-9188-fd55daebf835')\"\n",
              "              title=\"Convert this dataframe to an interactive table.\"\n",
              "              style=\"display:none;\">\n",
              "        \n",
              "  <svg xmlns=\"http://www.w3.org/2000/svg\" height=\"24px\"viewBox=\"0 0 24 24\"\n",
              "       width=\"24px\">\n",
              "    <path d=\"M0 0h24v24H0V0z\" fill=\"none\"/>\n",
              "    <path d=\"M18.56 5.44l.94 2.06.94-2.06 2.06-.94-2.06-.94-.94-2.06-.94 2.06-2.06.94zm-11 1L8.5 8.5l.94-2.06 2.06-.94-2.06-.94L8.5 2.5l-.94 2.06-2.06.94zm10 10l.94 2.06.94-2.06 2.06-.94-2.06-.94-.94-2.06-.94 2.06-2.06.94z\"/><path d=\"M17.41 7.96l-1.37-1.37c-.4-.4-.92-.59-1.43-.59-.52 0-1.04.2-1.43.59L10.3 9.45l-7.72 7.72c-.78.78-.78 2.05 0 2.83L4 21.41c.39.39.9.59 1.41.59.51 0 1.02-.2 1.41-.59l7.78-7.78 2.81-2.81c.8-.78.8-2.07 0-2.86zM5.41 20L4 18.59l7.72-7.72 1.47 1.35L5.41 20z\"/>\n",
              "  </svg>\n",
              "      </button>\n",
              "      \n",
              "  <style>\n",
              "    .colab-df-container {\n",
              "      display:flex;\n",
              "      flex-wrap:wrap;\n",
              "      gap: 12px;\n",
              "    }\n",
              "\n",
              "    .colab-df-convert {\n",
              "      background-color: #E8F0FE;\n",
              "      border: none;\n",
              "      border-radius: 50%;\n",
              "      cursor: pointer;\n",
              "      display: none;\n",
              "      fill: #1967D2;\n",
              "      height: 32px;\n",
              "      padding: 0 0 0 0;\n",
              "      width: 32px;\n",
              "    }\n",
              "\n",
              "    .colab-df-convert:hover {\n",
              "      background-color: #E2EBFA;\n",
              "      box-shadow: 0px 1px 2px rgba(60, 64, 67, 0.3), 0px 1px 3px 1px rgba(60, 64, 67, 0.15);\n",
              "      fill: #174EA6;\n",
              "    }\n",
              "\n",
              "    [theme=dark] .colab-df-convert {\n",
              "      background-color: #3B4455;\n",
              "      fill: #D2E3FC;\n",
              "    }\n",
              "\n",
              "    [theme=dark] .colab-df-convert:hover {\n",
              "      background-color: #434B5C;\n",
              "      box-shadow: 0px 1px 3px 1px rgba(0, 0, 0, 0.15);\n",
              "      filter: drop-shadow(0px 1px 2px rgba(0, 0, 0, 0.3));\n",
              "      fill: #FFFFFF;\n",
              "    }\n",
              "  </style>\n",
              "\n",
              "      <script>\n",
              "        const buttonEl =\n",
              "          document.querySelector('#df-0fbbf7ff-8fae-425a-9188-fd55daebf835 button.colab-df-convert');\n",
              "        buttonEl.style.display =\n",
              "          google.colab.kernel.accessAllowed ? 'block' : 'none';\n",
              "\n",
              "        async function convertToInteractive(key) {\n",
              "          const element = document.querySelector('#df-0fbbf7ff-8fae-425a-9188-fd55daebf835');\n",
              "          const dataTable =\n",
              "            await google.colab.kernel.invokeFunction('convertToInteractive',\n",
              "                                                     [key], {});\n",
              "          if (!dataTable) return;\n",
              "\n",
              "          const docLinkHtml = 'Like what you see? Visit the ' +\n",
              "            '<a target=\"_blank\" href=https://colab.research.google.com/notebooks/data_table.ipynb>data table notebook</a>'\n",
              "            + ' to learn more about interactive tables.';\n",
              "          element.innerHTML = '';\n",
              "          dataTable['output_type'] = 'display_data';\n",
              "          await google.colab.output.renderOutput(dataTable, element);\n",
              "          const docLink = document.createElement('div');\n",
              "          docLink.innerHTML = docLinkHtml;\n",
              "          element.appendChild(docLink);\n",
              "        }\n",
              "      </script>\n",
              "    </div>\n",
              "  </div>\n",
              "  "
            ]
          },
          "metadata": {},
          "execution_count": 45
        }
      ]
    },
    {
      "cell_type": "code",
      "source": [
        "newdf.shape"
      ],
      "metadata": {
        "colab": {
          "base_uri": "https://localhost:8080/"
        },
        "id": "p2C2_GETL39W",
        "outputId": "1412062b-8d8a-4e95-991e-39291575b97e"
      },
      "execution_count": 46,
      "outputs": [
        {
          "output_type": "execute_result",
          "data": {
            "text/plain": [
              "(641109, 22)"
            ]
          },
          "metadata": {},
          "execution_count": 46
        }
      ]
    },
    {
      "cell_type": "code",
      "source": [
        "sns.countplot(newdf.Diabetes_012, ).set(title=\"Data Imbalance Check\")"
      ],
      "metadata": {
        "colab": {
          "base_uri": "https://localhost:8080/",
          "height": 313
        },
        "id": "TfxHKDYIU6nZ",
        "outputId": "c5061e9c-402f-469a-b920-59a1e59398e4"
      },
      "execution_count": 47,
      "outputs": [
        {
          "output_type": "execute_result",
          "data": {
            "text/plain": [
              "[Text(0.5, 1.0, 'Data Imbalance Check')]"
            ]
          },
          "metadata": {},
          "execution_count": 47
        },
        {
          "output_type": "display_data",
          "data": {
            "text/plain": [
              "<Figure size 432x288 with 1 Axes>"
            ],
            "image/png": "[encoded data removed]"
          },
          "metadata": {
            "needs_background": "light"
          }
        }
      ]
    },
    {
      "cell_type": "code",
      "source": [
        "#PREPROCESSING DATA"
      ],
      "metadata": {
        "id": "nSdXyzvZ-okK"
      },
      "execution_count": 48,
      "outputs": []
    },
    {
      "cell_type": "code",
      "source": [
        "#In machine learning, before creating a model, it is important to apply a pre-processing technique. \n",
        "#One of the numerous ways of preprocessing in by applying Feature scaling. "
      ],
      "metadata": {
        "id": "rq-KmUzx_Xg0"
      },
      "execution_count": 49,
      "outputs": []
    },
    {
      "cell_type": "code",
      "source": [
        " #FEATURE SCALING"
      ],
      "metadata": {
        "id": "-nhe6_UA_7en"
      },
      "execution_count": 50,
      "outputs": []
    },
    {
      "cell_type": "code",
      "source": [
        "#FS is important in preprocessing data before Model is created. There are 4 types of FS. Standard, Normalizer,\n",
        "#Minmax scaler and Binalizer. FS is required for correct prediction and results. FS is important in Algorithms \n",
        "#like SVM and KNN. In tree based models like decision trees, Random Forest, etc, they do not really require scaling.\n",
        "  #Also algorithms like LDA and Naive Bayes may not require FS because it won't really have an effect on them. In Scaling,\n",
        " #you don't really know the exact technique to use for your data until you try them all."
      ],
      "metadata": {
        "id": "kjxiYQJmAWXd"
      },
      "execution_count": 51,
      "outputs": []
    },
    {
      "cell_type": "code",
      "source": [
        "#FS- Standard Scaler - This has the formula X-Mean/std"
      ],
      "metadata": {
        "id": "t4tu9oidEC91"
      },
      "execution_count": 52,
      "outputs": []
    },
    {
      "cell_type": "code",
      "source": [
        "scaler = StandardScaler()"
      ],
      "metadata": {
        "id": "DdpwgcWxEIlq"
      },
      "execution_count": 53,
      "outputs": []
    },
    {
      "cell_type": "code",
      "source": [
        "scaler.fit(X)"
      ],
      "metadata": {
        "id": "_6qfRNvaELCC",
        "outputId": "ccf7403d-cbe6-4c74-9f70-4a69445118e4",
        "colab": {
          "base_uri": "https://localhost:8080/"
        }
      },
      "execution_count": 54,
      "outputs": [
        {
          "output_type": "execute_result",
          "data": {
            "text/plain": [
              "StandardScaler()"
            ]
          },
          "metadata": {},
          "execution_count": 54
        }
      ]
    },
    {
      "cell_type": "code",
      "source": [
        "SS =scaler.transform(X)"
      ],
      "metadata": {
        "id": "cGoBxGR7EN78"
      },
      "execution_count": 55,
      "outputs": []
    },
    {
      "cell_type": "code",
      "source": [
        "print(SS)"
      ],
      "metadata": {
        "id": "biHUzPEVEQKK",
        "outputId": "0026800f-55ee-4c3d-c7a1-1b0241d1cc16",
        "colab": {
          "base_uri": "https://localhost:8080/"
        }
      },
      "execution_count": 56,
      "outputs": [
        {
          "output_type": "stream",
          "name": "stdout",
          "text": [
            "[[ 1.15368814  1.16525449  0.19692156 ...  0.31690008 -1.06559465\n",
            "  -1.4744874 ]\n",
            " [-0.86678537 -0.85818163 -5.07816412 ... -0.33793279  0.96327159\n",
            "  -2.44013754]\n",
            " [ 1.15368814  1.16525449  0.19692156 ...  0.31690008 -1.06559465\n",
            "   0.93963796]\n",
            " ...\n",
            " [-0.86678537 -0.85818163  0.19692156 ... -1.97501498 -0.05116153\n",
            "  -1.95731247]\n",
            " [ 1.15368814 -0.85818163  0.19692156 ... -0.33793279 -0.05116153\n",
            "  -2.44013754]\n",
            " [ 1.15368814  1.16525449  0.19692156 ...  0.31690008  0.96327159\n",
            "  -1.95731247]]\n"
          ]
        }
      ]
    },
    {
      "cell_type": "code",
      "source": [
        "#Lets make use of the result gotten from the standard scaler"
      ],
      "metadata": {
        "id": "aCrTkOjbHF1H"
      },
      "execution_count": 57,
      "outputs": []
    },
    {
      "cell_type": "code",
      "source": [
        "x_train,x_test,y_train,y_test=train_test_split(SS, y,test_size=0.2,random_state=7)"
      ],
      "metadata": {
        "id": "yIGSsJ_uHLyC"
      },
      "execution_count": 58,
      "outputs": []
    },
    {
      "cell_type": "code",
      "source": [
        "x_train.shape, y_train.shape"
      ],
      "metadata": {
        "id": "7Hw88gwPHPE5",
        "outputId": "8465ef34-6fb5-4086-daa9-080ce3aee457",
        "colab": {
          "base_uri": "https://localhost:8080/"
        }
      },
      "execution_count": 59,
      "outputs": [
        {
          "output_type": "execute_result",
          "data": {
            "text/plain": [
              "((202944, 21), (202944,))"
            ]
          },
          "metadata": {},
          "execution_count": 59
        }
      ]
    },
    {
      "cell_type": "code",
      "source": [
        "x_test.shape, y_test.shape"
      ],
      "metadata": {
        "id": "OM-rLvJVHRg7",
        "outputId": "87aab6ad-fe88-48fc-9153-8b9fbb9b17a2",
        "colab": {
          "base_uri": "https://localhost:8080/"
        }
      },
      "execution_count": 60,
      "outputs": [
        {
          "output_type": "execute_result",
          "data": {
            "text/plain": [
              "((50736, 21), (50736,))"
            ]
          },
          "metadata": {},
          "execution_count": 60
        }
      ]
    },
    {
      "cell_type": "code",
      "source": [
        "##LOGISTIC REGRESSION"
      ],
      "metadata": {
        "id": "ACki-HXWj77U"
      },
      "execution_count": 61,
      "outputs": []
    },
    {
      "cell_type": "code",
      "source": [
        "from sklearn.linear_model import LogisticRegression\n",
        "lr = LogisticRegression(solver = 'liblinear', multi_class= 'ovr')\n",
        "lr.fit(x_train,y_train)\n"
      ],
      "metadata": {
        "id": "GnhRGeeNHt6z",
        "outputId": "8be113f3-f70b-4c32-92f1-505629ec601d",
        "colab": {
          "base_uri": "https://localhost:8080/"
        }
      },
      "execution_count": 62,
      "outputs": [
        {
          "output_type": "execute_result",
          "data": {
            "text/plain": [
              "LogisticRegression(multi_class='ovr', solver='liblinear')"
            ]
          },
          "metadata": {},
          "execution_count": 62
        }
      ]
    },
    {
      "cell_type": "code",
      "source": [
        "#MAKING PREDICTIONS"
      ],
      "metadata": {
        "id": "exE3TiTrILvb"
      },
      "execution_count": 63,
      "outputs": []
    },
    {
      "cell_type": "code",
      "source": [
        "x_test.shape"
      ],
      "metadata": {
        "id": "AVI48IAlLp_k",
        "colab": {
          "base_uri": "https://localhost:8080/"
        },
        "outputId": "c0a77036-5623-4471-e2a9-cbf777ccf04b"
      },
      "execution_count": 64,
      "outputs": [
        {
          "output_type": "execute_result",
          "data": {
            "text/plain": [
              "(50736, 21)"
            ]
          },
          "metadata": {},
          "execution_count": 64
        }
      ]
    },
    {
      "cell_type": "code",
      "source": [
        "lr_pred = lr.predict(x_test)"
      ],
      "metadata": {
        "id": "pd5xdA04Xba5"
      },
      "execution_count": 65,
      "outputs": []
    },
    {
      "cell_type": "code",
      "source": [
        "lr_pred.shape"
      ],
      "metadata": {
        "colab": {
          "base_uri": "https://localhost:8080/"
        },
        "id": "WnsntXNyZKn_",
        "outputId": "9bae211c-6de6-41d5-fb46-96ba0987df2f"
      },
      "execution_count": 66,
      "outputs": [
        {
          "output_type": "execute_result",
          "data": {
            "text/plain": [
              "(50736,)"
            ]
          },
          "metadata": {},
          "execution_count": 66
        }
      ]
    },
    {
      "cell_type": "code",
      "source": [
        "#MODEL EVALUATION"
      ],
      "metadata": {
        "id": "NbDuy5JgZYdq"
      },
      "execution_count": 67,
      "outputs": []
    },
    {
      "cell_type": "code",
      "source": [
        "#Now that we have made predictions lets Evaluate our model"
      ],
      "metadata": {
        "id": "4w3DYLMfZesc"
      },
      "execution_count": 68,
      "outputs": []
    },
    {
      "cell_type": "code",
      "source": [
        "#Train and Test score"
      ],
      "metadata": {
        "id": "tDRDxmX5ZskY"
      },
      "execution_count": 69,
      "outputs": []
    },
    {
      "cell_type": "code",
      "source": [
        "#Train and Test score of Logistic Regression\n",
        "from sklearn.metrics import accuracy_score\n",
        "print('Train score for Logistic Regression',lr.score(x_train, y_train)*100)\n",
        "print('Test score for Logistic Regression',lr.score(x_test, y_test)*100)\n",
        "print('Accuracy Test score for Logistic Regression',accuracy_score(y_test,lr_pred)*100)"
      ],
      "metadata": {
        "colab": {
          "base_uri": "https://localhost:8080/"
        },
        "id": "NpxcRm3gZydx",
        "outputId": "cdc92ceb-2d1e-4cae-a55c-3b25de4a5716"
      },
      "execution_count": 70,
      "outputs": [
        {
          "output_type": "stream",
          "name": "stdout",
          "text": [
            "Train score for Logistic Regression 84.68247398297068\n",
            "Test score for Logistic Regression 84.52775149795018\n",
            "Accuracy Test score for Logistic Regression 84.52775149795018\n"
          ]
        }
      ]
    },
    {
      "cell_type": "code",
      "source": [
        "# Evaluate the performance of the model\n",
        "from sklearn.metrics import classification_report, confusion_matrix\n",
        "print(classification_report(y_test, lr_pred))"
      ],
      "metadata": {
        "colab": {
          "base_uri": "https://localhost:8080/"
        },
        "id": "4Z2yQ8RkjGcE",
        "outputId": "429b6781-3d6e-4a29-8764-0007fc6390b2"
      },
      "execution_count": 71,
      "outputs": [
        {
          "output_type": "stream",
          "name": "stdout",
          "text": [
            "              precision    recall  f1-score   support\n",
            "\n",
            "           0       0.86      0.98      0.91     42640\n",
            "           1       0.00      0.00      0.00       902\n",
            "           2       0.54      0.17      0.26      7194\n",
            "\n",
            "    accuracy                           0.85     50736\n",
            "   macro avg       0.47      0.38      0.39     50736\n",
            "weighted avg       0.80      0.85      0.81     50736\n",
            "\n"
          ]
        }
      ]
    },
    {
      "cell_type": "code",
      "source": [
        "#CONFUSION MATRIX"
      ],
      "metadata": {
        "id": "ZPuqYl45fNcn"
      },
      "execution_count": 72,
      "outputs": []
    },
    {
      "cell_type": "code",
      "source": [
        "#confusion matrix of logistic regression\n",
        "c_mlr = confusion_matrix(y_test,lr_pred)\n",
        "c_mlr"
      ],
      "metadata": {
        "colab": {
          "base_uri": "https://localhost:8080/"
        },
        "id": "A1Nqq4aJgG3L",
        "outputId": "2e6494f7-392c-445b-b0fc-8deba62de22c"
      },
      "execution_count": 73,
      "outputs": [
        {
          "output_type": "execute_result",
          "data": {
            "text/plain": [
              "array([[41648,     0,   992],\n",
              "       [  827,     0,    75],\n",
              "       [ 5956,     0,  1238]])"
            ]
          },
          "metadata": {},
          "execution_count": 73
        }
      ]
    },
    {
      "cell_type": "code",
      "source": [
        "#from the result above, we cannot really tell which is TP,TN etc. \n",
        "import matplotlib.pyplot as plt\n",
        "plt.clf()\n",
        "plt.imshow(c_mlr,interpolation = 'nearest', cmap = plt.cm.Wistia)\n",
        "classNames = ['0','1','2']\n",
        "plt.title('confusion matrix of logistic regression')\n",
        "plt.ylabel('Actual (True) values')\n",
        "plt.xlabel ('Predicted values')\n",
        "tick_marks = np.arange(len(classNames))\n",
        "plt.xticks(tick_marks,classNames,rotation =45)\n",
        "plt.yticks(tick_marks, classNames)\n",
        "s= [['37224','0','726'],['884','0','44'],['6200','0','879']]\n",
        "thresh = c_mlr.max() / 2.\n",
        "for i in range(c_mlr.shape[0]):\n",
        "    for j in range(c_mlr.shape[1]):\n",
        "        plt.text(j, i, format(c_mlr[i, j], 'd'),\n",
        "                 horizontalalignment=\"center\",\n",
        "                 color=\"black\" if c_mlr[i, j] > thresh else \"blue\")"
      ],
      "metadata": {
        "colab": {
          "base_uri": "https://localhost:8080/",
          "height": 297
        },
        "id": "LNxAvl7PgxpP",
        "outputId": "56094073-684b-490b-d0e6-3d60371a2fb0"
      },
      "execution_count": 74,
      "outputs": [
        {
          "output_type": "display_data",
          "data": {
            "text/plain": [
              "<Figure size 432x288 with 1 Axes>"
            ],
            "image/png": "[encoded data removed]"
          },
          "metadata": {
            "needs_background": "light"
          }
        }
      ]
    },
    {
      "cell_type": "code",
      "source": [
        "precision = precision_score(y_test, lr_pred, average='weighted', zero_division=0)\n",
        "\n",
        "print(\"Precision score:\", precision*100)"
      ],
      "metadata": {
        "colab": {
          "base_uri": "https://localhost:8080/"
        },
        "id": "H4YSIahJNqzs",
        "outputId": "3a0fadee-3e4a-42f9-8a03-42f04aa5812a"
      },
      "execution_count": 75,
      "outputs": [
        {
          "output_type": "stream",
          "name": "stdout",
          "text": [
            "Precision score: 79.8878648018099\n"
          ]
        }
      ]
    },
    {
      "cell_type": "code",
      "source": [
        "# Train the decision tree classifier\n",
        "from sklearn.tree import DecisionTreeClassifier\n",
        "dt = DecisionTreeClassifier()\n",
        "dt.fit(x_train,y_train)\n"
      ],
      "metadata": {
        "colab": {
          "base_uri": "https://localhost:8080/"
        },
        "id": "Xp3HLtM4krsK",
        "outputId": "e1eb20fd-a951-4dca-8cd6-ad02dabe8485"
      },
      "execution_count": 76,
      "outputs": [
        {
          "output_type": "execute_result",
          "data": {
            "text/plain": [
              "DecisionTreeClassifier()"
            ]
          },
          "metadata": {},
          "execution_count": 76
        }
      ]
    },
    {
      "cell_type": "code",
      "source": [
        "#MAKING PREDICTIONS"
      ],
      "metadata": {
        "id": "dRanxfxOmeAe"
      },
      "execution_count": 77,
      "outputs": []
    },
    {
      "cell_type": "code",
      "source": [
        "x_test.shape"
      ],
      "metadata": {
        "colab": {
          "base_uri": "https://localhost:8080/"
        },
        "id": "bGiS9M-pme2K",
        "outputId": "b8eae81c-160f-479f-9335-0830f2031917"
      },
      "execution_count": 78,
      "outputs": [
        {
          "output_type": "execute_result",
          "data": {
            "text/plain": [
              "(50736, 21)"
            ]
          },
          "metadata": {},
          "execution_count": 78
        }
      ]
    },
    {
      "cell_type": "code",
      "source": [
        "dt_pred = dt.predict(x_test)"
      ],
      "metadata": {
        "id": "6wWZV18fmi0R"
      },
      "execution_count": 79,
      "outputs": []
    },
    {
      "cell_type": "code",
      "source": [
        "dt_pred.shape"
      ],
      "metadata": {
        "colab": {
          "base_uri": "https://localhost:8080/"
        },
        "id": "BoG3WNGAs8dA",
        "outputId": "21142014-2552-43e5-e50d-e0a18f3f990f"
      },
      "execution_count": 80,
      "outputs": [
        {
          "output_type": "execute_result",
          "data": {
            "text/plain": [
              "(50736,)"
            ]
          },
          "metadata": {},
          "execution_count": 80
        }
      ]
    },
    {
      "cell_type": "code",
      "source": [
        "#MODEL EVALUATION"
      ],
      "metadata": {
        "id": "lRohVosDpyI0"
      },
      "execution_count": 81,
      "outputs": []
    },
    {
      "cell_type": "code",
      "source": [
        "#Now that we have made predictions lets Evaluate our model"
      ],
      "metadata": {
        "id": "DR0JFRzztNJS"
      },
      "execution_count": 82,
      "outputs": []
    },
    {
      "cell_type": "code",
      "source": [
        "#Train and Test score"
      ],
      "metadata": {
        "id": "QfQEOozgtQOG"
      },
      "execution_count": 83,
      "outputs": []
    },
    {
      "cell_type": "code",
      "source": [
        "#Train and Test score of Decision Tree\n",
        "from sklearn.metrics import accuracy_score\n",
        "print('Train score for Decision Tree',dt.score(x_train, y_train)*100)\n",
        "print('Test score for Decision Tree',dt.score(x_test, y_test)*100)\n",
        "print('Accuracy Test score for Decision Tree',accuracy_score(y_test,dt_pred)*100)"
      ],
      "metadata": {
        "colab": {
          "base_uri": "https://localhost:8080/"
        },
        "id": "fEtR8XzwtUZR",
        "outputId": "63a8dedd-2c3b-4e95-a126-33aa7afafdd5"
      },
      "execution_count": 84,
      "outputs": [
        {
          "output_type": "stream",
          "name": "stdout",
          "text": [
            "Train score for Decision Tree 99.32493692841375\n",
            "Test score for Decision Tree 76.62606433301798\n",
            "Accuracy Test score for Decision Tree 76.62606433301798\n"
          ]
        }
      ]
    },
    {
      "cell_type": "code",
      "source": [
        "print(classification_report(y_test, dt_pred))"
      ],
      "metadata": {
        "id": "ZvN6KLn2vUUH",
        "colab": {
          "base_uri": "https://localhost:8080/"
        },
        "outputId": "119da7f7-7258-4df2-fb98-352544fd1b9d"
      },
      "execution_count": 85,
      "outputs": [
        {
          "output_type": "stream",
          "name": "stdout",
          "text": [
            "              precision    recall  f1-score   support\n",
            "\n",
            "           0       0.87      0.86      0.87     42640\n",
            "           1       0.03      0.04      0.03       902\n",
            "           2       0.29      0.31      0.30      7194\n",
            "\n",
            "    accuracy                           0.77     50736\n",
            "   macro avg       0.40      0.40      0.40     50736\n",
            "weighted avg       0.78      0.77      0.77     50736\n",
            "\n"
          ]
        }
      ]
    },
    {
      "cell_type": "code",
      "source": [
        "from sklearn.metrics import classification_report, confusion_matrix\n",
        "#confusion matrix of Decision Tree\n",
        "c_mdt = confusion_matrix(y_test,dt_pred)\n",
        "c_mdt"
      ],
      "metadata": {
        "colab": {
          "base_uri": "https://localhost:8080/"
        },
        "id": "-4KEobbfvcIZ",
        "outputId": "c108ecd0-2e0f-4b95-97a9-9e37c56970b4"
      },
      "execution_count": 86,
      "outputs": [
        {
          "output_type": "execute_result",
          "data": {
            "text/plain": [
              "array([[36620,   879,  5141],\n",
              "       [  647,    37,   218],\n",
              "       [ 4675,   299,  2220]])"
            ]
          },
          "metadata": {},
          "execution_count": 86
        }
      ]
    },
    {
      "cell_type": "code",
      "source": [
        "#from the result above, we cannot really tell which is TP,TN etc. \n",
        "import matplotlib.pyplot as plt\n",
        "plt.clf()\n",
        "plt.imshow(c_mdt,interpolation = 'nearest', cmap = plt.cm.Wistia)\n",
        "classNames = ['0','1','2']\n",
        "plt.title('Confusion Matrix of Decision Tree')\n",
        "plt.ylabel('Actual (True) values')\n",
        "plt.xlabel ('Predicted values')\n",
        "tick_marks = np.arange(len(classNames))\n",
        "plt.xticks(tick_marks,classNames,rotation =45)\n",
        "plt.yticks(tick_marks, classNames)\n",
        "s= [['37224','0','726'],['884','0','44'],['6200','0','879']]\n",
        "thresh = c_mdt.max() / 2.\n",
        "for i in range(c_mdt.shape[0]):\n",
        "    for j in range(c_mdt.shape[1]):\n",
        "        plt.text(j, i, format(c_mdt[i, j], 'd'),\n",
        "                 horizontalalignment=\"center\",\n",
        "                 color=\"black\" if c_mdt[i, j] > thresh else \"blue\")"
      ],
      "metadata": {
        "colab": {
          "base_uri": "https://localhost:8080/",
          "height": 297
        },
        "id": "rYnMrP7UxJB1",
        "outputId": "fbe076d2-386a-4c6e-9026-96981a6fd7b0"
      },
      "execution_count": 87,
      "outputs": [
        {
          "output_type": "display_data",
          "data": {
            "text/plain": [
              "<Figure size 432x288 with 1 Axes>"
            ],
            "image/png": "[encoded data removed]"
          },
          "metadata": {
            "needs_background": "light"
          }
        }
      ]
    },
    {
      "cell_type": "code",
      "source": [
        "precision = precision_score(y_test, dt_pred, average='weighted', zero_division=0)\n",
        "\n",
        "print(\"Precision score:\", precision*100)"
      ],
      "metadata": {
        "colab": {
          "base_uri": "https://localhost:8080/"
        },
        "id": "-KBxm0ilJmt-",
        "outputId": "c687a8d4-29b8-4a95-b487-da7ec5107530"
      },
      "execution_count": 88,
      "outputs": [
        {
          "output_type": "stream",
          "name": "stdout",
          "text": [
            "Precision score: 77.5861859397566\n"
          ]
        }
      ]
    },
    {
      "cell_type": "code",
      "source": [
        "from sklearn.ensemble import RandomForestClassifier\n",
        "rf = RandomForestClassifier()\n",
        "rf.fit(x_train,y_train)"
      ],
      "metadata": {
        "colab": {
          "base_uri": "https://localhost:8080/"
        },
        "id": "dRAUssmOJ_iX",
        "outputId": "cbb661ae-0991-4506-a7b6-d147b041a8f8"
      },
      "execution_count": 89,
      "outputs": [
        {
          "output_type": "execute_result",
          "data": {
            "text/plain": [
              "RandomForestClassifier()"
            ]
          },
          "metadata": {},
          "execution_count": 89
        }
      ]
    },
    {
      "cell_type": "code",
      "source": [
        "rf_pred = rf.predict(x_test)"
      ],
      "metadata": {
        "id": "1rfz8LF6NqwJ"
      },
      "execution_count": 90,
      "outputs": []
    },
    {
      "cell_type": "code",
      "source": [
        "rf_pred.shape"
      ],
      "metadata": {
        "colab": {
          "base_uri": "https://localhost:8080/"
        },
        "id": "8ExcIb7WNvvG",
        "outputId": "a5b6bdc1-4221-45ab-e7cb-f32a2111330c"
      },
      "execution_count": 91,
      "outputs": [
        {
          "output_type": "execute_result",
          "data": {
            "text/plain": [
              "(50736,)"
            ]
          },
          "metadata": {},
          "execution_count": 91
        }
      ]
    },
    {
      "cell_type": "code",
      "source": [
        "#Train and Test score of Random Forest\n",
        "from sklearn.metrics import accuracy_score\n",
        "print('Train score for Random Forest',rf.score(x_train, y_train)*100)\n",
        "print('Test score for Random Forest',rf.score(x_test, y_test)*100)\n",
        "print('Accuracy Test score for Random Forest',accuracy_score(y_test,rf_pred)*100)"
      ],
      "metadata": {
        "colab": {
          "base_uri": "https://localhost:8080/"
        },
        "id": "1LeTL06IN3hA",
        "outputId": "a69c33cd-b6bd-40e2-a6f3-e088258ee6a0"
      },
      "execution_count": 92,
      "outputs": [
        {
          "output_type": "stream",
          "name": "stdout",
          "text": [
            "Train score for Random Forest 99.32050220750553\n",
            "Test score for Random Forest 83.99164301482183\n",
            "Accuracy Test score for Random Forest 83.99164301482183\n"
          ]
        }
      ]
    },
    {
      "cell_type": "code",
      "source": [
        "print(classification_report(y_test, rf_pred))"
      ],
      "metadata": {
        "colab": {
          "base_uri": "https://localhost:8080/"
        },
        "id": "xYv0rY6VObjG",
        "outputId": "87cac867-b804-4682-a10e-d9daee90261d"
      },
      "execution_count": 93,
      "outputs": [
        {
          "output_type": "stream",
          "name": "stdout",
          "text": [
            "              precision    recall  f1-score   support\n",
            "\n",
            "           0       0.86      0.97      0.91     42640\n",
            "           1       0.05      0.00      0.00       902\n",
            "           2       0.48      0.20      0.28      7194\n",
            "\n",
            "    accuracy                           0.84     50736\n",
            "   macro avg       0.46      0.39      0.40     50736\n",
            "weighted avg       0.79      0.84      0.81     50736\n",
            "\n"
          ]
        }
      ]
    },
    {
      "cell_type": "code",
      "source": [
        "#confusion matrix of Decision Tree\n",
        "c_mrf = confusion_matrix(y_test,rf_pred)\n",
        "c_mrf"
      ],
      "metadata": {
        "colab": {
          "base_uri": "https://localhost:8080/"
        },
        "id": "9mIHAsdoO2ol",
        "outputId": "00579874-95d6-432b-dd4f-060edb940a0a"
      },
      "execution_count": 94,
      "outputs": [
        {
          "output_type": "execute_result",
          "data": {
            "text/plain": [
              "array([[41205,    33,  1402],\n",
              "       [  800,     2,   100],\n",
              "       [ 5779,     8,  1407]])"
            ]
          },
          "metadata": {},
          "execution_count": 94
        }
      ]
    },
    {
      "cell_type": "code",
      "source": [
        "import matplotlib.pyplot as plt\n",
        "plt.clf()\n",
        "plt.imshow(c_mrf,interpolation = 'nearest', cmap = plt.cm.Wistia)\n",
        "classNames = ['0','1','2']\n",
        "plt.title('Confusion matrix of Random forest')\n",
        "plt.ylabel('Actual (True) values')\n",
        "plt.xlabel ('Predicted values')\n",
        "tick_marks = np.arange(len(classNames))\n",
        "plt.xticks(tick_marks,classNames,rotation =45)\n",
        "plt.yticks(tick_marks, classNames)\n",
        "s= [['32148','30','1718'],['741','2','104'],['4979','16','1167']]\n",
        "thresh = c_mrf.max() / 2.\n",
        "for i in range(c_mrf.shape[0]):\n",
        "    for j in range(c_mrf.shape[1]):\n",
        "        plt.text(j, i, format(c_mrf[i, j], 'd'),\n",
        "                 horizontalalignment=\"center\",\n",
        "                  color=\"black\" if c_mrf[i, j] > thresh else \"blue\")"
      ],
      "metadata": {
        "colab": {
          "base_uri": "https://localhost:8080/",
          "height": 297
        },
        "id": "uYdDHIY3QblP",
        "outputId": "52df80ad-f368-4210-fb03-31ecd98ad003"
      },
      "execution_count": 95,
      "outputs": [
        {
          "output_type": "display_data",
          "data": {
            "text/plain": [
              "<Figure size 432x288 with 1 Axes>"
            ],
            "image/png": "[encoded data removed]"
          },
          "metadata": {
            "needs_background": "light"
          }
        }
      ]
    },
    {
      "cell_type": "code",
      "source": [
        "precision = precision_score(y_test, rf_pred, average='weighted', zero_division=0)\n",
        "\n",
        "print(\"Precision score:\", precision*100)\n"
      ],
      "metadata": {
        "colab": {
          "base_uri": "https://localhost:8080/"
        },
        "id": "I10g7lZywjsO",
        "outputId": "5e399b18-79ae-4cae-9157-73bf7fac4df2"
      },
      "execution_count": 96,
      "outputs": [
        {
          "output_type": "stream",
          "name": "stdout",
          "text": [
            "Precision score: 79.4124918219434\n"
          ]
        }
      ]
    },
    {
      "cell_type": "code",
      "source": [],
      "metadata": {
        "id": "vf1T1RABcUAj"
      },
      "execution_count": 96,
      "outputs": []
    }
  ],
  "metadata": {
    "colab": {
      "provenance": []
    },
    "kernelspec": {
      "display_name": "Python 3",
      "name": "python3"
    }
  },
  "nbformat": 4,
  "nbformat_minor": 0
}